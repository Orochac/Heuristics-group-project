{
 "cells": [
  {
   "cell_type": "code",
   "execution_count": 98,
   "metadata": {},
   "outputs": [
    {
     "name": "stderr",
     "output_type": "stream",
     "text": [
      "100%|██████████| 20/20 [01:02<00:00,  3.11s/it]\n",
      "100%|██████████| 20/20 [01:08<00:00,  3.44s/it]\n",
      "100%|██████████| 20/20 [01:02<00:00,  3.14s/it]\n",
      "100%|██████████| 20/20 [00:59<00:00,  2.95s/it]\n",
      "100%|██████████| 20/20 [01:05<00:00,  3.29s/it]\n",
      "100%|██████████| 20/20 [01:20<00:00,  4.00s/it]\n",
      "100%|██████████| 20/20 [01:05<00:00,  3.27s/it]\n",
      "100%|██████████| 20/20 [01:11<00:00,  3.59s/it]\n"
     ]
    }
   ],
   "source": [
    "import os\n",
    "import random\n",
    "import numpy as np\n",
    "from tqdm import trange\n",
    "import time\n",
    "def read_instance(fname):\n",
    "    data = np.array([])\n",
    "    for i in open(fname,'r').readlines():\n",
    "        data = np.append(data, i.split())\n",
    "    size = int(data[0])\n",
    "    flows = np.zeros(shape=(size, size))\n",
    "    for i in range(size):\n",
    "        row = np.array([])\n",
    "        for j in range(size):\n",
    "            flows[i][j] = data[1+i*size+j]\n",
    "    distances = np.zeros(shape=(size, size))\n",
    "    base = 1+size**2\n",
    "    for i in range(size):\n",
    "        row = np.array([])\n",
    "        step = i*size\n",
    "        for j in range(size):\n",
    "            distances[i][j] = data[base+step+j]\n",
    "    return size, flows, distances\n",
    "def evaluate(assign, size):\n",
    "    total = 0\n",
    "    for i in range(size):\n",
    "        for j in range(size):\n",
    "            #if i!=j:\n",
    "            total += flows[i][j]*distances[assign[i]][assign[j]]\n",
    "    return total\n",
    "def local_search_first(val, curr, size):\n",
    "    for i in range(size):\n",
    "        for j in range(size):\n",
    "            if i<j:\n",
    "                temp = curr.copy()\n",
    "                temp[i] = curr[j]\n",
    "                temp[j] = curr[i]\n",
    "                new_val = evaluate(temp,size)\n",
    "                if new_val < val:\n",
    "                    return new_val, temp\n",
    "    return val, curr\n",
    "def steps_to_opt(start, size):\n",
    "    steps = 0\n",
    "    val = evaluate(start, size)\n",
    "    while True:\n",
    "        temp_val, temp = local_search_first(val, start, size)\n",
    "        if temp_val == val:\n",
    "            return steps\n",
    "        steps = steps+1\n",
    "        val = temp_val\n",
    "        start = temp.copy()\n",
    "    return steps\n",
    "\n",
    "directory = os.fsencode(\"qapdata\")\n",
    "counter = 0\n",
    "for file in os.listdir(directory):\n",
    "#     counter += 1\n",
    "#     if counter>10:\n",
    "#         break\n",
    "    filename = os.fsdecode(file)\n",
    "    #if filename.endswith(\".dat\") and (filename.startswith(\"tai\") or filename.startswith(\"bur\")):\n",
    "    if filename.endswith(\".dat\") and filename.startswith(\"bur\"):\n",
    "    #if filename.endswith(\".dat\"): \n",
    "        fname = \"qapdata/\"+filename\n",
    "        # read flash.dat to a list of lists\n",
    "        size , flows, distances = read_instance(fname)\n",
    "        results = np.zeros(20)\n",
    "        begin = time.time()\n",
    "        for i in trange(20):\n",
    "            start = np.random.permutation(size).astype(int)\n",
    "            results[i]=steps_to_opt(start, size)\n",
    "        end = time.time()\n",
    "        with open('analysis_v1_'+filename,'w') as f:\n",
    "            print(\"results \",results, file=f)\n",
    "            print(\"mean \",results.mean(), file=f)\n",
    "            print(\"max \",results.max(), file=f)\n",
    "            print(\"min \",results.min(), file=f)\n",
    "            print(end - begin, file=f)\n",
    "            \n",
    "        "
   ]
  },
  {
   "cell_type": "code",
   "execution_count": null,
   "metadata": {},
   "outputs": [],
   "source": [
    "steps_to_opt(start, size)"
   ]
  },
  {
   "cell_type": "code",
   "execution_count": 5,
   "metadata": {},
   "outputs": [
    {
     "ename": "NameError",
     "evalue": "name 'temp_val' is not defined",
     "output_type": "error",
     "traceback": [
      "\u001b[1;31m---------------------------------------------------------------------------\u001b[0m",
      "\u001b[1;31mNameError\u001b[0m                                 Traceback (most recent call last)",
      "\u001b[1;32m<ipython-input-5-3ffb8f2a845b>\u001b[0m in \u001b[0;36m<module>\u001b[1;34m\u001b[0m\n\u001b[1;32m----> 1\u001b[1;33m \u001b[0mprint\u001b[0m\u001b[1;33m(\u001b[0m\u001b[0mtemp_val\u001b[0m\u001b[1;33m)\u001b[0m\u001b[1;33m\u001b[0m\u001b[1;33m\u001b[0m\u001b[0m\n\u001b[0m",
      "\u001b[1;31mNameError\u001b[0m: name 'temp_val' is not defined"
     ]
    }
   ],
   "source": [
    "print(temp_val)"
   ]
  },
  {
   "cell_type": "code",
   "execution_count": 79,
   "metadata": {},
   "outputs": [],
   "source": [
    "def evaluate(assign, size):\n",
    "    total = 0\n",
    "    for i in range(size):\n",
    "        for j in range(size):\n",
    "            #if i!=j:\n",
    "            total += flows[i][j]*distances[assign[i]][assign[j]]\n",
    "    return total\n",
    "\n",
    "def evaluate_swap(old_val, old, s1, s2):\n",
    "    new_val = old_val\n",
    "    for j in range(size):\n",
    "        new_val-=flows[j][s1]*distances[old[j]][old[s1]]\n",
    "        new_val-=flows[s1][j]*distances[old[s1]][old[j]]\n",
    "        new_val-=flows[s2][j]*distances[old[s2]][old[j]]\n",
    "        new_val-=flows[j][s2]*distances[old[j]][old[s2]]\n",
    "    new_val+=flows[s1][s1]*distances[old[s1]][old[s1]]\n",
    "    new_val+=flows[s2][s2]*distances[old[s2]][old[s2]]\n",
    "    for j in range(size):\n",
    "        new_val+=flows[s1][j]*distances[old[s2]][old[j]]\n",
    "        new_val+=flows[s2][j]*distances[old[s1]][old[j]]\n",
    "        new_val+=flows[j][s1]*distances[old[j]][old[s2]]\n",
    "        new_val+=flows[j][s2]*distances[old[j]][old[s1]]\n",
    "    new_val-=flows[s1][s1]*distances[old[s2]][old[s2]]\n",
    "    new_val-=flows[s2][s2]*distances[old[s1]][old[s1]]\n",
    "    return new_val\n"
   ]
  },
  {
   "cell_type": "code",
   "execution_count": 69,
   "metadata": {},
   "outputs": [],
   "source": [
    "test = np.random.permutation(size).astype(int)"
   ]
  },
  {
   "cell_type": "code",
   "execution_count": 80,
   "metadata": {},
   "outputs": [
    {
     "name": "stdout",
     "output_type": "stream",
     "text": [
      "[14  8 16 21 13 19 10 24 12 18 17  2  1  4 23 22 11  3  5  0 25  7  6  9\n",
      " 15 20]\n",
      "13696.0\n"
     ]
    }
   ],
   "source": [
    "print(test)\n",
    "val = evaluate(test,size)\n",
    "temp = test.copy()\n",
    "i = 1\n",
    "j = 20\n",
    "temp[i] = test[j]\n",
    "temp[j] = test[i]\n",
    "new_val = evaluate(temp,size)\n",
    "test_val = evaluate_swap(val, test, i, j)\n",
    "print(new_val-test_val)"
   ]
  },
  {
   "cell_type": "code",
   "execution_count": 85,
   "metadata": {},
   "outputs": [
    {
     "data": {
      "text/plain": [
       "106.0"
      ]
     },
     "execution_count": 85,
     "metadata": {},
     "output_type": "execute_result"
    }
   ],
   "source": [
    "\n",
    "flows[j][j]*distances[test[j]][test[j]]"
   ]
  },
  {
   "cell_type": "code",
   "execution_count": 88,
   "metadata": {},
   "outputs": [
    {
     "data": {
      "text/plain": [
       "106.0"
      ]
     },
     "execution_count": 88,
     "metadata": {},
     "output_type": "execute_result"
    }
   ],
   "source": [
    "flows[24][24]*distances[test[j]][test[j]]"
   ]
  },
  {
   "cell_type": "code",
   "execution_count": 89,
   "metadata": {},
   "outputs": [
    {
     "data": {
      "text/plain": [
       "array([[53., 66., 66., 66., 66., 53., 53., 53., 53., 53., 73., 53., 53.,\n",
       "        53., 66., 53., 53., 53., 53., 85., 73., 73., 73., 73., 53., 53.],\n",
       "       [66., 53., 66., 66., 66., 53., 53., 53., 53., 53., 53., 73., 53.,\n",
       "        53., 66., 53., 53., 53., 53., 73., 85., 73., 73., 73., 53., 53.],\n",
       "       [66., 66., 53., 66., 66., 53., 53., 53., 53., 53., 53., 53., 73.,\n",
       "        53., 66., 53., 53., 53., 53., 73., 73., 85., 73., 73., 53., 53.],\n",
       "       [66., 66., 66., 53., 66., 53., 53., 53., 53., 53., 53., 53., 53.,\n",
       "        73., 73., 53., 53., 53., 53., 73., 73., 73., 85., 85., 53., 53.],\n",
       "       [66., 66., 66., 66., 53., 53., 53., 53., 53., 53., 53., 53., 53.,\n",
       "        53., 73., 53., 53., 53., 53., 73., 73., 73., 85., 85., 53., 53.],\n",
       "       [53., 53., 53., 53., 53., 53., 66., 66., 66., 66., 53., 53., 53.,\n",
       "        53., 53., 73., 73., 53., 53., 53., 53., 53., 53., 53., 85., 85.],\n",
       "       [53., 53., 53., 53., 53., 66., 53., 66., 66., 66., 53., 53., 53.,\n",
       "        53., 53., 73., 73., 53., 53., 53., 53., 53., 53., 53., 85., 85.],\n",
       "       [53., 53., 53., 53., 53., 66., 66., 53., 66., 66., 53., 53., 53.,\n",
       "        53., 53., 66., 53., 73., 53., 53., 53., 53., 53., 53., 73., 73.],\n",
       "       [53., 53., 53., 53., 53., 66., 66., 66., 53., 66., 53., 53., 53.,\n",
       "        53., 53., 66., 53., 53., 73., 53., 53., 53., 53., 53., 73., 73.],\n",
       "       [53., 53., 53., 53., 53., 66., 66., 66., 66., 53., 53., 53., 53.,\n",
       "        53., 53., 66., 53., 53., 53., 53., 53., 53., 53., 53., 73., 73.],\n",
       "       [66., 66., 66., 66., 66., 53., 53., 53., 53., 53., 53., 53., 53.,\n",
       "        53., 66., 53., 53., 53., 53., 73., 73., 73., 73., 73., 53., 53.],\n",
       "       [66., 66., 66., 66., 66., 53., 53., 53., 53., 53., 53., 53., 53.,\n",
       "        53., 66., 53., 53., 53., 53., 73., 73., 73., 73., 73., 53., 53.],\n",
       "       [66., 66., 66., 66., 66., 53., 53., 53., 53., 53., 53., 53., 53.,\n",
       "        53., 66., 53., 53., 53., 53., 73., 73., 73., 73., 73., 53., 53.],\n",
       "       [66., 66., 66., 66., 66., 53., 53., 53., 53., 53., 53., 53., 53.,\n",
       "        53., 66., 53., 53., 53., 53., 73., 73., 73., 73., 73., 53., 53.],\n",
       "       [66., 66., 66., 66., 66., 53., 53., 53., 53., 53., 53., 53., 53.,\n",
       "        66., 53., 53., 53., 53., 53., 73., 73., 73., 73., 73., 53., 53.],\n",
       "       [53., 53., 53., 53., 53., 66., 66., 66., 66., 66., 53., 53., 53.,\n",
       "        53., 53., 53., 66., 53., 53., 53., 53., 53., 53., 53., 73., 73.],\n",
       "       [53., 53., 53., 53., 53., 66., 66., 66., 66., 66., 53., 53., 53.,\n",
       "        53., 53., 66., 53., 53., 53., 53., 53., 53., 53., 53., 73., 73.],\n",
       "       [53., 53., 53., 53., 53., 66., 66., 66., 66., 66., 53., 53., 53.,\n",
       "        53., 53., 66., 53., 53., 53., 53., 53., 53., 53., 53., 73., 73.],\n",
       "       [53., 53., 53., 53., 53., 66., 66., 66., 66., 66., 53., 53., 53.,\n",
       "        53., 53., 66., 53., 53., 53., 53., 53., 53., 53., 53., 73., 73.],\n",
       "       [85., 66., 66., 66., 66., 53., 53., 53., 53., 53., 66., 53., 53.,\n",
       "        53., 66., 53., 53., 53., 53., 53., 73., 73., 73., 73., 53., 53.],\n",
       "       [66., 85., 66., 66., 66., 53., 53., 53., 53., 53., 53., 66., 53.,\n",
       "        53., 66., 53., 53., 53., 53., 73., 53., 73., 73., 73., 53., 53.],\n",
       "       [66., 66., 85., 66., 66., 53., 53., 53., 53., 53., 53., 53., 66.,\n",
       "        53., 66., 53., 53., 53., 53., 73., 73., 53., 73., 73., 53., 53.],\n",
       "       [66., 66., 66., 85., 85., 53., 53., 53., 53., 53., 53., 53., 53.,\n",
       "        66., 66., 53., 53., 53., 53., 73., 73., 73., 53., 66., 53., 53.],\n",
       "       [66., 66., 66., 85., 85., 53., 53., 53., 53., 53., 53., 53., 53.,\n",
       "        66., 66., 53., 53., 53., 53., 73., 73., 73., 66., 53., 53., 53.],\n",
       "       [53., 53., 53., 53., 53., 85., 85., 66., 66., 66., 53., 53., 53.,\n",
       "        53., 53., 66., 66., 53., 53., 53., 53., 53., 53., 53., 53., 66.],\n",
       "       [53., 53., 53., 53., 53., 85., 85., 66., 66., 66., 53., 53., 53.,\n",
       "        53., 53., 66., 66., 53., 53., 53., 53., 53., 53., 53., 66., 53.]])"
      ]
     },
     "execution_count": 89,
     "metadata": {},
     "output_type": "execute_result"
    }
   ],
   "source": [
    "flows"
   ]
  },
  {
   "cell_type": "code",
   "execution_count": null,
   "metadata": {},
   "outputs": [],
   "source": []
  }
 ],
 "metadata": {
  "kernelspec": {
   "display_name": "Python 3",
   "language": "python",
   "name": "python3"
  },
  "language_info": {
   "codemirror_mode": {
    "name": "ipython",
    "version": 3
   },
   "file_extension": ".py",
   "mimetype": "text/x-python",
   "name": "python",
   "nbconvert_exporter": "python",
   "pygments_lexer": "ipython3",
   "version": "3.8.5"
  }
 },
 "nbformat": 4,
 "nbformat_minor": 4
}
