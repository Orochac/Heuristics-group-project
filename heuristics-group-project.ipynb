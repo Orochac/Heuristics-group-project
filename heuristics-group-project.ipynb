{
 "cells": [
  {
   "cell_type": "code",
   "execution_count": null,
   "id": "1cf3e936-4512-4237-816a-6d95004995a4",
   "metadata": {},
   "outputs": [],
   "source": [
    "#start with a 5 loc instance and work from there\n",
    "#25 xs\n",
    "# (a,1),(b,2),(c,3),(d,4),(e,5)\n",
    "# sum fij dkp xik xjp\n",
    "# fab d12 xa1 xb2\n",
    "\n",
    "def evaluate(assign, size):\n",
    "    total = 0\n",
    "    for i in range(size):\n",
    "        for j in range(size):\n",
    "            #if i!=j:\n",
    "            total += flows[i][j]*distances[assign[i]][assign[j]]\n",
    "    return total\n",
    "def local_search_first(val, curr, size):\n",
    "    for i in range(size):\n",
    "        for j in range(size):\n",
    "            if i<j:\n",
    "                temp = curr.copy()\n",
    "                temp[i] = curr[j]\n",
    "                temp[j] = curr[i]\n",
    "                new_val = evaluate(temp,size)\n",
    "                if new_val < val:\n",
    "                    return new_val, temp\n",
    "    return val, curr\n",
    "\n",
    "import csv\n",
    "fname = \"pythonprog/bur26a.dat\"\n",
    "# read flash.dat to a list of lists\n",
    "data = [list(map(int, i.split())) for i in open(fname,'r').readlines()]\n",
    "for row in data:\n",
    "    for item in row:\n",
    "        item = int(item)\n",
    "size = data[0][0]\n",
    "flows = data[2:2+size]\n",
    "distances = data[3+size:len(data)-1]\n",
    "# print(len(flows),len(distances))\n",
    "# print(flows)\n",
    "# print(distances)\n",
    "current = [i for i in range(size)]\n",
    "val = evaluate(current, size)\n",
    "print(val,current)\n",
    "for i in range(100):\n",
    "    val, current = local_search_first(val, current, size)\n",
    "print(val,current)\n",
    "print(evaluate(current,size))"
   ]
  }
 ],
 "metadata": {
  "kernelspec": {
   "display_name": "Python 3 (ipykernel)",
   "language": "python",
   "name": "python3"
  },
  "language_info": {
   "codemirror_mode": {
    "name": "ipython",
    "version": 3
   },
   "file_extension": ".py",
   "mimetype": "text/x-python",
   "name": "python",
   "nbconvert_exporter": "python",
   "pygments_lexer": "ipython3",
   "version": "3.9.7"
  }
 },
 "nbformat": 4,
 "nbformat_minor": 5
}
