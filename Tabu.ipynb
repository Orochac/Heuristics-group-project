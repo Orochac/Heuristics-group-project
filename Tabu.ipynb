{
 "cells": [
  {
   "cell_type": "code",
   "execution_count": 2,
   "metadata": {},
   "outputs": [
    {
     "name": "stdout",
     "output_type": "stream",
     "text": [
      "5801101 [0, 1, 2, 3, 4, 5, 6, 7, 8, 9, 10, 11, 12, 13, 14, 15, 16, 17, 18, 19, 20, 21, 22, 23, 24, 25]\n",
      "5464943 [2, 1, 10, 5, 11, 14, 6, 25, 7, 0, 4, 19, 13, 3, 12, 8, 20, 17, 18, 16, 21, 15, 22, 9, 23, 24]\n",
      "5464943\n"
     ]
    }
   ],
   "source": [
    "#start with a 5 loc instance and work from there\n",
    "#25 xs\n",
    "# (a,1),(b,2),(c,3),(d,4),(e,5)\n",
    "# sum fij dkp xik xjp\n",
    "# fab d12 xa1 xb2\n",
    "\n",
    "def evaluate(assign, size):\n",
    "    total = 0\n",
    "    for i in range(size):\n",
    "        for j in range(size):\n",
    "            #if i!=j:\n",
    "            total += flows[i][j]*distances[assign[i]][assign[j]]\n",
    "    return total\n",
    "def local_search_first(val, curr, size):\n",
    "    for i in range(size):\n",
    "        for j in range(size):\n",
    "            if i<j:\n",
    "                temp = curr.copy()\n",
    "                temp[i] = curr[j]\n",
    "                temp[j] = curr[i]\n",
    "                new_val = evaluate(temp,size)\n",
    "                if new_val < val:\n",
    "                    return new_val, temp\n",
    "    return val, curr\n",
    "\n",
    "import csv\n",
    "fname = \"qapdata/bur26a.dat\"\n",
    "# read flash.dat to a list of lists\n",
    "data = [list(map(int, i.split())) for i in open(fname,'r').readlines()]\n",
    "for row in data:\n",
    "    for item in row:\n",
    "        item = int(item)\n",
    "size = data[0][0]\n",
    "flows = data[2:2+size]\n",
    "distances = data[3+size:len(data)-1]\n",
    "# print(len(flows),len(distances))\n",
    "# print(flows)\n",
    "# print(distances)\n",
    "current = [i for i in range(size)]\n",
    "val = evaluate(current, size)\n",
    "print(val,current)\n",
    "for i in range(100):\n",
    "    val, current = local_search_first(val, current, size)\n",
    "print(val,current)\n",
    "print(evaluate(current,size))"
   ]
  },
  {
   "cell_type": "code",
   "execution_count": 3,
   "metadata": {},
   "outputs": [],
   "source": [
    "import random\n",
    "\n",
    "def get_neighbour(perm, value, n, depth):\n",
    "    for i in range(depth):\n",
    "        swap1 = random.randrange(0, n)\n",
    "        swap2 = random.randrange(0, n)\n",
    "        while swap2 == swap1:\n",
    "            swap2 = random.randrange(0, n)\n",
    "        neighbour = perm.copy()\n",
    "        neighbour[swap1] = perm[swap2]\n",
    "        neighbour[swap2] = perm[swap1]\n",
    "        perm = neighbour.copy()\n",
    "    #             Compute new cost\n",
    "    cost = evaluate(neighbour, n)\n",
    "    #TO DO efficient cost\n",
    "    #cost = value-\n",
    "    return neighbour, cost\n",
    "    "
   ]
  },
  {
   "cell_type": "code",
   "execution_count": null,
   "metadata": {},
   "outputs": [],
   "source": []
  },
  {
   "cell_type": "code",
   "execution_count": 74,
   "metadata": {},
   "outputs": [
    {
     "name": "stdout",
     "output_type": "stream",
     "text": [
      "5482686 [21, 1, 2, 11, 12, 23, 6, 8, 7, 20, 19, 3, 4, 13, 10, 14, 0, 17, 18, 15, 9, 16, 22, 5, 24, 25]\n",
      "5435743 [22, 10, 25, 12, 1, 24, 14, 0, 3, 7, 19, 6, 11, 17, 13, 20, 8, 4, 18, 15, 5, 9, 21, 2, 23, 16]\n",
      "5435743 [22, 10, 25, 12, 1, 24, 14, 0, 3, 7, 19, 6, 11, 17, 13, 20, 8, 4, 18, 15, 5, 9, 21, 2, 23, 16]\n"
     ]
    }
   ],
   "source": [
    "import numpy as np\n",
    "def tabu_search( perm,size, Tnum):\n",
    "    MAX_TABU_SIZE = 50\n",
    "    WALK_LEN = 1\n",
    "    best = perm.copy()\n",
    "    bestCost = evaluate(best, size)\n",
    "    tabuList = [best]\n",
    "    for i in range(Tnum):\n",
    "        neighbour, cost = local_search_best_tabu(perm, size, tabuList)\n",
    "#         print(\"perm:\", perm, \"nwighbour:\",  neighbour)\n",
    "#         print(\"\\n\\n\")\n",
    "#         print(tabuList)\n",
    "#         print(\"\\n\\n\")\n",
    "        perm = neighbour.copy()\n",
    "        tabuList = np.append(tabuList, [neighbour], axis=0)\n",
    "        if len(tabuList)>MAX_TABU_SIZE:\n",
    "            tabuList = np.delete(tabuList, 0, axis=0)\n",
    "        if cost<bestCost:\n",
    "            best = neighbour.copy()\n",
    "            bestCost = cost\n",
    "    return best\n",
    "current = [i for i in range(size)]\n",
    "result=tabu_search( current,len(current), 10)\n",
    "print(evaluate(result, size), result)\n",
    "result=tabu_search( current,len(current), 100)\n",
    "print(evaluate(result, size), result)\n",
    "result=tabu_search( current,len(current), 1000)\n",
    "print(evaluate(result, size), result)"
   ]
  },
  {
   "cell_type": "code",
   "execution_count": 70,
   "metadata": {},
   "outputs": [
    {
     "data": {
      "text/plain": [
       "(array([ 1,  0,  2,  5, 11,  3,  6,  7,  8,  9, 10,  4, 12, 13, 14, 21, 16,\n",
       "        17, 18, 19, 20, 15, 22, 23, 24, 25]),\n",
       " 5682870)"
      ]
     },
     "execution_count": 70,
     "metadata": {},
     "output_type": "execute_result"
    }
   ],
   "source": [
    "def local_search_best_tabu(curr, size, tabu):\n",
    "    cBest = np.append([curr[1],curr[0]],curr[2:])\n",
    "    n = size\n",
    "    cVal = evaluate(cBest,size)\n",
    "    while np.any(np.all(cBest == tabu)):\n",
    "        swap1 = random.randrange(0, n)\n",
    "        swap2 = random.randrange(0, n)\n",
    "        while swap2 == swap1:\n",
    "            swap2 = random.randrange(0, n)\n",
    "        neighbour = curr.copy()\n",
    "        neighbour[swap1] = curr[swap2]\n",
    "        neighbour[swap2] = curr[swap1]\n",
    "        cBest = neighbour.copy()\n",
    "        cVal = evaluate(cBest,size)\n",
    "#     print(\"start\", cBest,\"start\")\n",
    "    for i in range(size):\n",
    "        for j in range(size):\n",
    "            if i<j:\n",
    "                temp = curr.copy()\n",
    "                temp[i] = curr[j]\n",
    "                temp[j] = curr[i]\n",
    "                #implement speed up\n",
    "                new_val = evaluate(temp,size)\n",
    "#                 print(temp, tabu)\n",
    "                if new_val < cVal and not np.any(np.all(temp == tabu)):\n",
    "                    cBest = temp.copy()\n",
    "                    cVal = new_val\n",
    "    return cBest, cVal\n",
    "\n",
    "p2 = np.array([0, 1, 2, 5, 4, 3, 6, 7, 8,9, 10, 11, 12, 13, 14, 21, 16, 17, 18, 19, 20, 15, 22, 23, 24, 25])\n",
    "p1 = np.array([1, 0, 2, 5, 4, 3, 6, 7, 8,9, 10, 11, 12, 13, 14, 21, 16, 17, 18, 19, 20, 15, 22, 23, 24, 25])\n",
    "local_search_best_tabu(p1, 26, [p2])"
   ]
  },
  {
   "cell_type": "code",
   "execution_count": null,
   "metadata": {},
   "outputs": [],
   "source": [
    "def evaluate_swap(assign,s1, s2, size):\n",
    "    total = 0\n",
    "    for i in range(size):\n",
    "        for j in range(size):\n",
    "            #if i!=j:\n",
    "            total += flows[i][j]*distances[assign[i]][assign[j]]\n",
    "p1 = np.array([0, 1, 2, 3, 4, 5, 6, 7, 8,9, 10, 11, 12, 13, 14, 21, 16, 17, 18, 19, 20, 15, 22, 23, 24, 25])\n",
    "#swapping 3 and 5\n",
    "p2 = np.array([0, 1, 2, 5, 4, 3, 6, 7, 8,9, 10, 11, 12, 13, 14, 21, 16, 17, 18, 19, 20, 15, 22, 23, 24, 25])\n",
    "-flows[3][5]*distances[3][5]\n",
    "-flows[5][3]*distances[5][3]\n",
    "+flows[5][3]*distances[3][5]\n",
    "+flows[3][5]*distances[5][3]\n",
    "-flows[3][4]*distances[3][4]\n",
    "+flows[3][4]*distances[5][4]"
   ]
  },
  {
   "cell_type": "code",
   "execution_count": 67,
   "metadata": {},
   "outputs": [
    {
     "data": {
      "text/plain": [
       "False"
      ]
     },
     "execution_count": 67,
     "metadata": {},
     "output_type": "execute_result"
    }
   ],
   "source": [
    "np.any(np.all(p2 == [p1]))"
   ]
  },
  {
   "cell_type": "code",
   "execution_count": 45,
   "metadata": {},
   "outputs": [
    {
     "name": "stdout",
     "output_type": "stream",
     "text": [
      "[ 1  0  2  3  4  5  6  7  8  9 10 11 12 13 14 15 16 17 18 19 20 21 22 23\n",
      " 24 25] [array([ 0,  1,  2,  5,  4,  3,  6,  7,  8,  9, 10, 11, 12, 13, 14, 21, 16,\n",
      "       17, 18, 19, 20, 15, 22, 23, 24, 25])]\n"
     ]
    }
   ],
   "source": [
    "curr = np.array(current)\n",
    "tabu = [p2]\n",
    "cBest = np.array(np.append([curr[1],curr[0]],curr[2:]))\n",
    "print(cBest,tabu)\n",
    "n = size\n",
    "cVal = evaluate(cBest,size)\n",
    "while np.any(np.all(cBest == tabu, axis=1)):\n",
    "    swap1 = random.randrange(0, n)\n",
    "    swap2 = random.randrange(0, n)\n",
    "    while swap2 == swap1:\n",
    "        swap2 = random.randrange(0, n)\n",
    "    neighbour = curr.copy()\n",
    "    neighbour[swap1] = perm[swap2]\n",
    "    neighbour[swap2] = perm[swap1]\n",
    "    cBest = neighbour.copy()\n",
    "    cVal = evaluate(cBest,size)"
   ]
  },
  {
   "cell_type": "code",
   "execution_count": 58,
   "metadata": {},
   "outputs": [
    {
     "data": {
      "text/plain": [
       "False"
      ]
     },
     "execution_count": 58,
     "metadata": {},
     "output_type": "execute_result"
    }
   ],
   "source": [
    "np.any(np.all(cBest == tabu))"
   ]
  },
  {
   "cell_type": "code",
   "execution_count": null,
   "metadata": {},
   "outputs": [],
   "source": [
    "5482686 [21, 1, 2, 11, 12, 23, 6, 8, 7, 20, 19, 3, 4, 13, 10, 14, 0, 17, 18, 15, 9, 16, 22, 5, 24, 25]\n",
    "5435743 [22, 10, 25, 12, 1, 24, 14, 0, 3, 7, 19, 6, 11, 17, 13, 20, 8, 4, 18, 15, 5, 9, 21, 2, 23, 16]\n",
    "5435743 [22, 10, 25, 12, 1, 24, 14, 0, 3, 7, 19, 6, 11, 17, 13, 20, 8, 4, 18, 15, 5, 9, 21, 2, 23, 16]"
   ]
  }
 ],
 "metadata": {
  "kernelspec": {
   "display_name": "Python 3",
   "language": "python",
   "name": "python3"
  },
  "language_info": {
   "codemirror_mode": {
    "name": "ipython",
    "version": 3
   },
   "file_extension": ".py",
   "mimetype": "text/x-python",
   "name": "python",
   "nbconvert_exporter": "python",
   "pygments_lexer": "ipython3",
   "version": "3.8.5"
  }
 },
 "nbformat": 4,
 "nbformat_minor": 5
}
