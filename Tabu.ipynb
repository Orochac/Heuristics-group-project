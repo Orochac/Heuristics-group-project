{
 "cells": [
  {
   "cell_type": "code",
<<<<<<< Updated upstream
   "execution_count": 1,
=======
   "execution_count": 176,
   "id": "ca702586",
>>>>>>> Stashed changes
   "metadata": {},
   "outputs": [],
   "source": [
    "\n",
    "#cost function\n",
    "def evaluate(assign):\n",
    "    total = 0\n",
    "    for i in range(size):\n",
    "        for j in range(size):\n",
    "            #if i!=j:\n",
    "            total += flows[i][j]*distances[assign[i]][assign[j]]\n",
    "    return total\n",
    "\n",
    "#take first better solution and move in that direction\n",
    "def local_search_first(val, curr, size):\n",
    "    for i in range(size):\n",
    "        for j in range(size):\n",
    "            if i<j:\n",
    "                temp = curr.copy()\n",
    "                temp[i] = curr[j]\n",
    "                temp[j] = curr[i]\n",
    "                new_val = evaluate(temp,size)\n",
    "                if new_val < val:\n",
    "                    return new_val, temp\n",
    "    return val, curr\n",
    "\n",
    "# import csv\n",
    "# fname = \"qapdata/bur26a.dat\"\n",
    "# # read flash.dat to a list of lists\n",
    "# data = [list(map(int, i.split())) for i in open(fname,'r').readlines()]\n",
    "# for row in data:\n",
    "#     for item in row:\n",
    "#         item = int(item)\n",
    "# size = data[0][0]\n",
    "# flows = data[2:2+size]\n",
    "# distances = data[3+size:len(data)-1]\n",
    "# # print(len(flows),len(distances))\n",
    "# # print(flows)\n",
    "# # print(distances)\n",
    "# current = [i for i in range(size)]\n",
    "# val = evaluate(current, size)\n",
    "# print(val,current)\n",
    "# for i in range(100):\n",
    "#     val, current = local_search_first(val, current, size)\n",
    "# print(val,current)\n",
    "# print(evaluate(current,size))"
   ]
  },
  {
   "cell_type": "code",
<<<<<<< Updated upstream
   "execution_count": 2,
=======
   "execution_count": 177,
   "id": "e4dfdb66",
>>>>>>> Stashed changes
   "metadata": {},
   "outputs": [],
   "source": [
    "import random\n",
    "\n",
    "# get random neighbour\n",
    "def get_neighbour(perm, value, n, depth):\n",
    "    for i in range(depth):\n",
    "        swap1 = random.randrange(0, n)\n",
    "        swap2 = random.randrange(0, n)\n",
    "        while swap2 == swap1:\n",
    "            swap2 = random.randrange(0, n)\n",
    "        neighbour = perm.copy()\n",
    "        neighbour[swap1] = perm[swap2]\n",
    "        neighbour[swap2] = perm[swap1]\n",
    "        perm = neighbour.copy()\n",
    "    #             Compute new cost\n",
    "    cost = evaluate(neighbour, n)\n",
    "    #TO DO efficient cost\n",
    "    #cost = value-\n",
    "    return neighbour, cost\n",
    "    "
   ]
  },
  {
   "cell_type": "code",
   "execution_count": null,
   "id": "26513124",
   "metadata": {},
   "outputs": [],
   "source": []
  },
  {
   "cell_type": "code",
<<<<<<< Updated upstream
   "execution_count": 3,
   "metadata": {},
   "outputs": [
    {
     "ename": "NameError",
     "evalue": "name 'size' is not defined",
     "output_type": "error",
     "traceback": [
      "\u001b[1;31m---------------------------------------------------------------------------\u001b[0m",
      "\u001b[1;31mNameError\u001b[0m                                 Traceback (most recent call last)",
      "\u001b[1;32m<ipython-input-3-cedc2ee700c9>\u001b[0m in \u001b[0;36m<module>\u001b[1;34m\u001b[0m\n\u001b[0;32m     23\u001b[0m             \u001b[0mbestCost\u001b[0m \u001b[1;33m=\u001b[0m \u001b[0mcost\u001b[0m\u001b[1;33m\u001b[0m\u001b[1;33m\u001b[0m\u001b[0m\n\u001b[0;32m     24\u001b[0m     \u001b[1;32mreturn\u001b[0m \u001b[0mbest\u001b[0m\u001b[1;33m\u001b[0m\u001b[1;33m\u001b[0m\u001b[0m\n\u001b[1;32m---> 25\u001b[1;33m \u001b[0mcurrent\u001b[0m \u001b[1;33m=\u001b[0m \u001b[0msorted\u001b[0m\u001b[1;33m(\u001b[0m\u001b[1;33m[\u001b[0m\u001b[0mi\u001b[0m \u001b[1;32mfor\u001b[0m \u001b[0mi\u001b[0m \u001b[1;32min\u001b[0m \u001b[0mrange\u001b[0m\u001b[1;33m(\u001b[0m\u001b[0msize\u001b[0m\u001b[1;33m)\u001b[0m\u001b[1;33m]\u001b[0m\u001b[1;33m,\u001b[0m \u001b[0mreverse\u001b[0m \u001b[1;33m=\u001b[0m \u001b[1;32mTrue\u001b[0m\u001b[1;33m)\u001b[0m\u001b[1;33m\u001b[0m\u001b[1;33m\u001b[0m\u001b[0m\n\u001b[0m\u001b[0;32m     26\u001b[0m \u001b[0mresult\u001b[0m\u001b[1;33m=\u001b[0m\u001b[0mtabu_search\u001b[0m\u001b[1;33m(\u001b[0m \u001b[0mcurrent\u001b[0m\u001b[1;33m,\u001b[0m\u001b[0mlen\u001b[0m\u001b[1;33m(\u001b[0m\u001b[0mcurrent\u001b[0m\u001b[1;33m)\u001b[0m\u001b[1;33m,\u001b[0m \u001b[1;36m10\u001b[0m\u001b[1;33m)\u001b[0m\u001b[1;33m\u001b[0m\u001b[1;33m\u001b[0m\u001b[0m\n\u001b[0;32m     27\u001b[0m \u001b[0mprint\u001b[0m\u001b[1;33m(\u001b[0m\u001b[0mevaluate\u001b[0m\u001b[1;33m(\u001b[0m\u001b[0mresult\u001b[0m\u001b[1;33m,\u001b[0m \u001b[0msize\u001b[0m\u001b[1;33m)\u001b[0m\u001b[1;33m,\u001b[0m \u001b[0mresult\u001b[0m\u001b[1;33m)\u001b[0m\u001b[1;33m\u001b[0m\u001b[1;33m\u001b[0m\u001b[0m\n",
      "\u001b[1;31mNameError\u001b[0m: name 'size' is not defined"
=======
   "execution_count": 178,
   "id": "68db5138",
   "metadata": {},
   "outputs": [
    {
     "ename": "TypeError",
     "evalue": "evaluate() takes 1 positional argument but 2 were given",
     "output_type": "error",
     "traceback": [
      "\u001b[0;31m---------------------------------------------------------------------------\u001b[0m",
      "\u001b[0;31mTypeError\u001b[0m                                 Traceback (most recent call last)",
      "\u001b[0;32m/var/folders/c1/jbnxwjg95sn3_mqj44b_83n00000gp/T/ipykernel_2932/189671030.py\u001b[0m in \u001b[0;36m<module>\u001b[0;34m\u001b[0m\n\u001b[1;32m     24\u001b[0m     \u001b[0;32mreturn\u001b[0m \u001b[0mbest\u001b[0m\u001b[0;34m\u001b[0m\u001b[0;34m\u001b[0m\u001b[0m\n\u001b[1;32m     25\u001b[0m \u001b[0mcurrent\u001b[0m \u001b[0;34m=\u001b[0m \u001b[0msorted\u001b[0m\u001b[0;34m(\u001b[0m\u001b[0;34m[\u001b[0m\u001b[0mi\u001b[0m \u001b[0;32mfor\u001b[0m \u001b[0mi\u001b[0m \u001b[0;32min\u001b[0m \u001b[0mrange\u001b[0m\u001b[0;34m(\u001b[0m\u001b[0msize\u001b[0m\u001b[0;34m)\u001b[0m\u001b[0;34m]\u001b[0m\u001b[0;34m,\u001b[0m \u001b[0mreverse\u001b[0m \u001b[0;34m=\u001b[0m \u001b[0;32mTrue\u001b[0m\u001b[0;34m)\u001b[0m\u001b[0;34m\u001b[0m\u001b[0;34m\u001b[0m\u001b[0m\n\u001b[0;32m---> 26\u001b[0;31m \u001b[0mresult\u001b[0m\u001b[0;34m=\u001b[0m\u001b[0mtabu_search\u001b[0m\u001b[0;34m(\u001b[0m \u001b[0mcurrent\u001b[0m\u001b[0;34m,\u001b[0m\u001b[0mlen\u001b[0m\u001b[0;34m(\u001b[0m\u001b[0mcurrent\u001b[0m\u001b[0;34m)\u001b[0m\u001b[0;34m,\u001b[0m \u001b[0;36m10\u001b[0m\u001b[0;34m)\u001b[0m\u001b[0;34m\u001b[0m\u001b[0;34m\u001b[0m\u001b[0m\n\u001b[0m\u001b[1;32m     27\u001b[0m \u001b[0mprint\u001b[0m\u001b[0;34m(\u001b[0m\u001b[0mevaluate\u001b[0m\u001b[0;34m(\u001b[0m\u001b[0mresult\u001b[0m\u001b[0;34m,\u001b[0m \u001b[0msize\u001b[0m\u001b[0;34m)\u001b[0m\u001b[0;34m,\u001b[0m \u001b[0mresult\u001b[0m\u001b[0;34m)\u001b[0m\u001b[0;34m\u001b[0m\u001b[0;34m\u001b[0m\u001b[0m\n\u001b[1;32m     28\u001b[0m \u001b[0mresult\u001b[0m\u001b[0;34m=\u001b[0m\u001b[0mtabu_search\u001b[0m\u001b[0;34m(\u001b[0m \u001b[0mcurrent\u001b[0m\u001b[0;34m,\u001b[0m\u001b[0mlen\u001b[0m\u001b[0;34m(\u001b[0m\u001b[0mcurrent\u001b[0m\u001b[0;34m)\u001b[0m\u001b[0;34m,\u001b[0m \u001b[0;36m100\u001b[0m\u001b[0;34m)\u001b[0m\u001b[0;34m\u001b[0m\u001b[0;34m\u001b[0m\u001b[0m\n",
      "\u001b[0;32m/var/folders/c1/jbnxwjg95sn3_mqj44b_83n00000gp/T/ipykernel_2932/189671030.py\u001b[0m in \u001b[0;36mtabu_search\u001b[0;34m(perm, size, Tnum)\u001b[0m\n\u001b[1;32m      5\u001b[0m     \u001b[0mWALK_LEN\u001b[0m \u001b[0;34m=\u001b[0m \u001b[0;36m1\u001b[0m\u001b[0;34m\u001b[0m\u001b[0;34m\u001b[0m\u001b[0m\n\u001b[1;32m      6\u001b[0m     \u001b[0mbest\u001b[0m \u001b[0;34m=\u001b[0m \u001b[0mperm\u001b[0m\u001b[0;34m.\u001b[0m\u001b[0mcopy\u001b[0m\u001b[0;34m(\u001b[0m\u001b[0;34m)\u001b[0m\u001b[0;34m\u001b[0m\u001b[0;34m\u001b[0m\u001b[0m\n\u001b[0;32m----> 7\u001b[0;31m     \u001b[0mbestCost\u001b[0m \u001b[0;34m=\u001b[0m \u001b[0mevaluate\u001b[0m\u001b[0;34m(\u001b[0m\u001b[0mbest\u001b[0m\u001b[0;34m,\u001b[0m \u001b[0msize\u001b[0m\u001b[0;34m)\u001b[0m\u001b[0;34m\u001b[0m\u001b[0;34m\u001b[0m\u001b[0m\n\u001b[0m\u001b[1;32m      8\u001b[0m     \u001b[0mtabuList\u001b[0m \u001b[0;34m=\u001b[0m \u001b[0;34m[\u001b[0m\u001b[0mbest\u001b[0m\u001b[0;34m]\u001b[0m\u001b[0;34m\u001b[0m\u001b[0;34m\u001b[0m\u001b[0m\n\u001b[1;32m      9\u001b[0m     \u001b[0;32mfor\u001b[0m \u001b[0mi\u001b[0m \u001b[0;32min\u001b[0m \u001b[0mrange\u001b[0m\u001b[0;34m(\u001b[0m\u001b[0mTnum\u001b[0m\u001b[0;34m)\u001b[0m\u001b[0;34m:\u001b[0m\u001b[0;34m\u001b[0m\u001b[0;34m\u001b[0m\u001b[0m\n",
      "\u001b[0;31mTypeError\u001b[0m: evaluate() takes 1 positional argument but 2 were given"
>>>>>>> Stashed changes
     ]
    }
   ],
   "source": [
    "import numpy as np\n",
    "#basic tabu with only short term\n",
    "def tabu_search( perm,size, Tnum):\n",
    "    MAX_TABU_SIZE = 10\n",
    "    WALK_LEN = 1\n",
    "    best = perm.copy()\n",
    "    bestCost = evaluate(best, size)\n",
    "    tabuList = [best]\n",
    "    for i in range(Tnum):\n",
    "        neighbour, cost = local_search_best_tabu(perm, size, tabuList)\n",
    "#         print(\"perm:\", perm, \"nwighbour:\",  neighbour)\n",
    "#         print(\"\\n\\n\")\n",
    "#         print(tabuList)\n",
    "#         print(\"\\n\\n\")\n",
    "        perm = neighbour.copy()\n",
    "        tabuList = np.append(tabuList, [neighbour], axis=0)\n",
    "        if len(tabuList)>MAX_TABU_SIZE:\n",
    "            if np.all(tabuList[0]==neighbour):#will this ever hit?\n",
    "                break\n",
    "            tabuList = np.delete(tabuList, 0, axis=0)\n",
    "        if cost<bestCost:\n",
    "            best = neighbour.copy()\n",
    "            bestCost = cost\n",
    "    return best\n",
    "current = sorted([i for i in range(size)], reverse = True)\n",
    "result=tabu_search( current,len(current), 10)\n",
    "print(evaluate(result, size), result)\n",
    "result=tabu_search( current,len(current), 100)\n",
    "print(evaluate(result, size), result)\n",
    "result=tabu_search( current,len(current), 1000)\n",
    "print(evaluate(result, size), result)"
   ]
  },
  {
   "cell_type": "code",
<<<<<<< Updated upstream
   "execution_count": 12,
   "metadata": {},
   "outputs": [
    {
     "data": {
      "text/plain": [
       "(array([ 1,  0,  2,  5,  4,  3,  6,  7,  8,  9, 10, 14, 12, 13, 11, 21, 16,\n",
       "        17, 18, 19, 20, 15, 22, 23, 24, 25]),\n",
       " 1452056.0)"
      ]
     },
     "execution_count": 12,
     "metadata": {},
     "output_type": "execute_result"
=======
   "execution_count": 179,
   "id": "8f91626a",
   "metadata": {},
   "outputs": [
    {
     "ename": "TypeError",
     "evalue": "evaluate() takes 1 positional argument but 2 were given",
     "output_type": "error",
     "traceback": [
      "\u001b[0;31m---------------------------------------------------------------------------\u001b[0m",
      "\u001b[0;31mTypeError\u001b[0m                                 Traceback (most recent call last)",
      "\u001b[0;32m/var/folders/c1/jbnxwjg95sn3_mqj44b_83n00000gp/T/ipykernel_2932/1467308752.py\u001b[0m in \u001b[0;36m<module>\u001b[0;34m\u001b[0m\n\u001b[1;32m     31\u001b[0m \u001b[0mp2\u001b[0m \u001b[0;34m=\u001b[0m \u001b[0mnp\u001b[0m\u001b[0;34m.\u001b[0m\u001b[0marray\u001b[0m\u001b[0;34m(\u001b[0m\u001b[0;34m[\u001b[0m\u001b[0;36m0\u001b[0m\u001b[0;34m,\u001b[0m \u001b[0;36m1\u001b[0m\u001b[0;34m,\u001b[0m \u001b[0;36m2\u001b[0m\u001b[0;34m,\u001b[0m \u001b[0;36m5\u001b[0m\u001b[0;34m,\u001b[0m \u001b[0;36m4\u001b[0m\u001b[0;34m,\u001b[0m \u001b[0;36m3\u001b[0m\u001b[0;34m,\u001b[0m \u001b[0;36m6\u001b[0m\u001b[0;34m,\u001b[0m \u001b[0;36m7\u001b[0m\u001b[0;34m,\u001b[0m \u001b[0;36m8\u001b[0m\u001b[0;34m,\u001b[0m\u001b[0;36m9\u001b[0m\u001b[0;34m,\u001b[0m \u001b[0;36m10\u001b[0m\u001b[0;34m,\u001b[0m \u001b[0;36m11\u001b[0m\u001b[0;34m,\u001b[0m \u001b[0;36m12\u001b[0m\u001b[0;34m,\u001b[0m \u001b[0;36m13\u001b[0m\u001b[0;34m,\u001b[0m \u001b[0;36m14\u001b[0m\u001b[0;34m,\u001b[0m \u001b[0;36m21\u001b[0m\u001b[0;34m,\u001b[0m \u001b[0;36m16\u001b[0m\u001b[0;34m,\u001b[0m \u001b[0;36m17\u001b[0m\u001b[0;34m,\u001b[0m \u001b[0;36m18\u001b[0m\u001b[0;34m,\u001b[0m \u001b[0;36m19\u001b[0m\u001b[0;34m,\u001b[0m \u001b[0;36m20\u001b[0m\u001b[0;34m,\u001b[0m \u001b[0;36m15\u001b[0m\u001b[0;34m,\u001b[0m \u001b[0;36m22\u001b[0m\u001b[0;34m,\u001b[0m \u001b[0;36m23\u001b[0m\u001b[0;34m,\u001b[0m \u001b[0;36m24\u001b[0m\u001b[0;34m,\u001b[0m \u001b[0;36m25\u001b[0m\u001b[0;34m]\u001b[0m\u001b[0;34m)\u001b[0m\u001b[0;34m\u001b[0m\u001b[0;34m\u001b[0m\u001b[0m\n\u001b[1;32m     32\u001b[0m \u001b[0mp1\u001b[0m \u001b[0;34m=\u001b[0m \u001b[0mnp\u001b[0m\u001b[0;34m.\u001b[0m\u001b[0marray\u001b[0m\u001b[0;34m(\u001b[0m\u001b[0;34m[\u001b[0m\u001b[0;36m1\u001b[0m\u001b[0;34m,\u001b[0m \u001b[0;36m0\u001b[0m\u001b[0;34m,\u001b[0m \u001b[0;36m2\u001b[0m\u001b[0;34m,\u001b[0m \u001b[0;36m5\u001b[0m\u001b[0;34m,\u001b[0m \u001b[0;36m4\u001b[0m\u001b[0;34m,\u001b[0m \u001b[0;36m3\u001b[0m\u001b[0;34m,\u001b[0m \u001b[0;36m6\u001b[0m\u001b[0;34m,\u001b[0m \u001b[0;36m7\u001b[0m\u001b[0;34m,\u001b[0m \u001b[0;36m8\u001b[0m\u001b[0;34m,\u001b[0m\u001b[0;36m9\u001b[0m\u001b[0;34m,\u001b[0m \u001b[0;36m10\u001b[0m\u001b[0;34m,\u001b[0m \u001b[0;36m11\u001b[0m\u001b[0;34m,\u001b[0m \u001b[0;36m12\u001b[0m\u001b[0;34m,\u001b[0m \u001b[0;36m13\u001b[0m\u001b[0;34m,\u001b[0m \u001b[0;36m14\u001b[0m\u001b[0;34m,\u001b[0m \u001b[0;36m21\u001b[0m\u001b[0;34m,\u001b[0m \u001b[0;36m16\u001b[0m\u001b[0;34m,\u001b[0m \u001b[0;36m17\u001b[0m\u001b[0;34m,\u001b[0m \u001b[0;36m18\u001b[0m\u001b[0;34m,\u001b[0m \u001b[0;36m19\u001b[0m\u001b[0;34m,\u001b[0m \u001b[0;36m20\u001b[0m\u001b[0;34m,\u001b[0m \u001b[0;36m15\u001b[0m\u001b[0;34m,\u001b[0m \u001b[0;36m22\u001b[0m\u001b[0;34m,\u001b[0m \u001b[0;36m23\u001b[0m\u001b[0;34m,\u001b[0m \u001b[0;36m24\u001b[0m\u001b[0;34m,\u001b[0m \u001b[0;36m25\u001b[0m\u001b[0;34m]\u001b[0m\u001b[0;34m)\u001b[0m\u001b[0;34m\u001b[0m\u001b[0;34m\u001b[0m\u001b[0m\n\u001b[0;32m---> 33\u001b[0;31m \u001b[0mlocal_search_best_tabu\u001b[0m\u001b[0;34m(\u001b[0m\u001b[0mp1\u001b[0m\u001b[0;34m,\u001b[0m \u001b[0;36m26\u001b[0m\u001b[0;34m,\u001b[0m \u001b[0;34m[\u001b[0m\u001b[0mp2\u001b[0m\u001b[0;34m]\u001b[0m\u001b[0;34m)\u001b[0m\u001b[0;34m\u001b[0m\u001b[0;34m\u001b[0m\u001b[0m\n\u001b[0m",
      "\u001b[0;32m/var/folders/c1/jbnxwjg95sn3_mqj44b_83n00000gp/T/ipykernel_2932/1467308752.py\u001b[0m in \u001b[0;36mlocal_search_best_tabu\u001b[0;34m(curr, size, tabu)\u001b[0m\n\u001b[1;32m      3\u001b[0m     \u001b[0mcBest\u001b[0m \u001b[0;34m=\u001b[0m \u001b[0mnp\u001b[0m\u001b[0;34m.\u001b[0m\u001b[0mappend\u001b[0m\u001b[0;34m(\u001b[0m\u001b[0;34m[\u001b[0m\u001b[0mcurr\u001b[0m\u001b[0;34m[\u001b[0m\u001b[0;36m1\u001b[0m\u001b[0;34m]\u001b[0m\u001b[0;34m,\u001b[0m\u001b[0mcurr\u001b[0m\u001b[0;34m[\u001b[0m\u001b[0;36m0\u001b[0m\u001b[0;34m]\u001b[0m\u001b[0;34m]\u001b[0m\u001b[0;34m,\u001b[0m\u001b[0mcurr\u001b[0m\u001b[0;34m[\u001b[0m\u001b[0;36m2\u001b[0m\u001b[0;34m:\u001b[0m\u001b[0;34m]\u001b[0m\u001b[0;34m)\u001b[0m\u001b[0;34m\u001b[0m\u001b[0;34m\u001b[0m\u001b[0m\n\u001b[1;32m      4\u001b[0m     \u001b[0mn\u001b[0m \u001b[0;34m=\u001b[0m \u001b[0msize\u001b[0m\u001b[0;34m\u001b[0m\u001b[0;34m\u001b[0m\u001b[0m\n\u001b[0;32m----> 5\u001b[0;31m     \u001b[0mcVal\u001b[0m \u001b[0;34m=\u001b[0m \u001b[0mevaluate\u001b[0m\u001b[0;34m(\u001b[0m\u001b[0mcBest\u001b[0m\u001b[0;34m,\u001b[0m\u001b[0msize\u001b[0m\u001b[0;34m)\u001b[0m\u001b[0;34m\u001b[0m\u001b[0;34m\u001b[0m\u001b[0m\n\u001b[0m\u001b[1;32m      6\u001b[0m     \u001b[0;32mwhile\u001b[0m \u001b[0mnp\u001b[0m\u001b[0;34m.\u001b[0m\u001b[0many\u001b[0m\u001b[0;34m(\u001b[0m\u001b[0mnp\u001b[0m\u001b[0;34m.\u001b[0m\u001b[0mall\u001b[0m\u001b[0;34m(\u001b[0m\u001b[0mcBest\u001b[0m \u001b[0;34m==\u001b[0m \u001b[0mtabu\u001b[0m\u001b[0;34m)\u001b[0m\u001b[0;34m)\u001b[0m\u001b[0;34m:\u001b[0m\u001b[0;34m\u001b[0m\u001b[0;34m\u001b[0m\u001b[0m\n\u001b[1;32m      7\u001b[0m         \u001b[0mswap1\u001b[0m \u001b[0;34m=\u001b[0m \u001b[0mrandom\u001b[0m\u001b[0;34m.\u001b[0m\u001b[0mrandrange\u001b[0m\u001b[0;34m(\u001b[0m\u001b[0;36m0\u001b[0m\u001b[0;34m,\u001b[0m \u001b[0mn\u001b[0m\u001b[0;34m)\u001b[0m\u001b[0;34m\u001b[0m\u001b[0;34m\u001b[0m\u001b[0m\n",
      "\u001b[0;31mTypeError\u001b[0m: evaluate() takes 1 positional argument but 2 were given"
     ]
>>>>>>> Stashed changes
    }
   ],
   "source": [
    "#best in neighbourhood of swaps=1 where best is not in tabu\n",
    "def local_search_best_tabu(curr, size, tabu):\n",
    "    cBest = np.append([curr[1],curr[0]],curr[2:])\n",
    "    n = size\n",
    "    cVal = evaluate(cBest,size)\n",
    "    while np.any(np.all(cBest == tabu)):\n",
    "        swap1 = random.randrange(0, n)\n",
    "        swap2 = random.randrange(0, n)\n",
    "        while swap2 == swap1:\n",
    "            swap2 = random.randrange(0, n)\n",
    "        neighbour = curr.copy()\n",
    "        neighbour[swap1] = curr[swap2]\n",
    "        neighbour[swap2] = curr[swap1]\n",
    "        cBest = neighbour.copy()\n",
    "        cVal = evaluate(cBest,size)\n",
    "#     print(\"start\", cBest,\"start\")\n",
    "    for i in range(size):\n",
    "        for j in range(size):\n",
    "            if i<j:\n",
    "                temp = curr.copy()\n",
    "                temp[i] = curr[j]\n",
    "                temp[j] = curr[i]\n",
    "                #implement speed up\n",
    "                new_val = evaluate(temp,size)\n",
    "#                 print(temp, tabu)\n",
    "                if new_val < cVal and not np.any(np.all(temp == tabu)):\n",
    "                    cBest = temp.copy()\n",
    "                    cVal = new_val\n",
    "    return cBest, cVal\n",
    "\n",
    "p2 = np.array([0, 1, 2, 5, 4, 3, 6, 7, 8,9, 10, 11, 12, 13, 14, 21, 16, 17, 18, 19, 20, 15, 22, 23, 24, 25])\n",
    "p1 = np.array([1, 0, 2, 5, 4, 3, 6, 7, 8,9, 10, 11, 12, 13, 14, 21, 16, 17, 18, 19, 20, 15, 22, 23, 24, 25])\n",
    "local_search_best_tabu(p1, 26, [p2])"
   ]
  },
  {
   "cell_type": "code",
   "execution_count": 180,
   "id": "1653b7cf",
   "metadata": {},
   "outputs": [],
   "source": [
    "def evaluate_swap(current_cost, current_perm ,s1, s2, size):\n",
    "    total = 0\n",
    "    subtract = 0\n",
    "    for i in range(size):\n",
    "        subtract += flows[s1][i]*distances[current_perm[s1]][current_perm[i]]\n",
    "        subtract += flows[i][s1]*distances[current_perm[i]][current_perm[s1]]\n",
    "    for i in range(size):\n",
    "        # if not i == s1:\n",
    "        subtract += flows[s2][i]*distances[current_perm[s2]][current_perm[i]]\n",
    "        subtract += flows[i][s2]*distances[current_perm[i]][current_perm[s2]]\n",
    "    add = 0\n",
    "    for i in range(size):\n",
    "        add += flows[s1][i]*distances[current_perm[s2]][current_perm[i]]\n",
    "        add += flows[i][s1]*distances[current_perm[i]][current_perm[s2]]\n",
    "    for i in range(size):\n",
    "        # if not i == s1:\n",
    "        add += flows[s2][i]*distances[current_perm[s1]][current_perm[i]]\n",
    "        add += flows[i][s2]*distances[current_perm[i]][current_perm[s1]]  \n",
    "    \n",
    "    if add<subtract:\n",
    "        temp = current_perm.copy()\n",
    "        temp[s1] = current_perm[s2]\n",
    "        temp[s2] = current_perm[s1]\n",
    "        return temp, current_cost+add-subtract\n",
    "    \n",
    "    return current_perm, current_cost\n",
    "\n",
    "size , flows, distances = read_instance('qapdata/tai100a.dat')"
   ]
  },
  {
   "cell_type": "code",
   "execution_count": 181,
   "id": "b66fd880-286f-4daf-9ce5-49c4c86b8536",
   "metadata": {},
   "outputs": [],
   "source": [
    "#best in neighbourhood of swaps=1 where best is not in tabu\n",
    "def local_search_first_tabu(curr, size, tabu):\n",
    "    cBest = np.append([curr[1],curr[0]],curr[2:])\n",
    "    n = size\n",
    "    cVal = evaluate(cBest,size)\n",
    "    while np.any(np.all(cBest == tabu)):\n",
    "        swap1 = random.randrange(0, n)\n",
    "        swap2 = random.randrange(0, n)\n",
    "        while swap2 == swap1:\n",
    "            swap2 = random.randrange(0, n)\n",
    "        neighbour = curr.copy()\n",
    "        neighbour[swap1] = curr[swap2]\n",
    "        neighbour[swap2] = curr[swap1]\n",
    "        cBest = neighbour.copy()\n",
    "        cVal = evaluate(cBest,size)\n",
    "#     print(\"start\", cBest,\"start\")\n",
    "    for i in range(size):\n",
    "        for j in range(size):\n",
    "            if i<j:\n",
    "                temp = curr.copy()\n",
    "                temp[i] = curr[j]\n",
    "                temp[j] = curr[i]\n",
    "                #implement speed up\n",
    "                new_val = evaluate(temp,size)\n",
    "#                 print(temp, tabu)\n",
    "                if new_val < cVal and not np.any(np.all(temp == tabu)):\n",
    "                    cBest = temp.copy()\n",
    "                    cVal = new_val\n",
    "                    return cBest, cVal\n",
    "    return cBest, cVal"
   ]
  },
  {
   "cell_type": "code",
<<<<<<< Updated upstream
   "execution_count": 4,
   "metadata": {},
   "outputs": [
    {
     "ename": "NameError",
     "evalue": "name 'p2' is not defined",
     "output_type": "error",
     "traceback": [
      "\u001b[1;31m---------------------------------------------------------------------------\u001b[0m",
      "\u001b[1;31mNameError\u001b[0m                                 Traceback (most recent call last)",
      "\u001b[1;32m<ipython-input-4-1954261a0eee>\u001b[0m in \u001b[0;36m<module>\u001b[1;34m\u001b[0m\n\u001b[1;32m----> 1\u001b[1;33m \u001b[0mnp\u001b[0m\u001b[1;33m.\u001b[0m\u001b[0many\u001b[0m\u001b[1;33m(\u001b[0m\u001b[0mnp\u001b[0m\u001b[1;33m.\u001b[0m\u001b[0mall\u001b[0m\u001b[1;33m(\u001b[0m\u001b[0mp2\u001b[0m \u001b[1;33m==\u001b[0m \u001b[1;33m[\u001b[0m\u001b[0mp1\u001b[0m\u001b[1;33m]\u001b[0m\u001b[1;33m)\u001b[0m\u001b[1;33m)\u001b[0m\u001b[1;33m\u001b[0m\u001b[1;33m\u001b[0m\u001b[0m\n\u001b[0m",
      "\u001b[1;31mNameError\u001b[0m: name 'p2' is not defined"
     ]
    }
   ],
=======
   "execution_count": 182,
   "id": "4ae76950",
   "metadata": {},
   "outputs": [],
>>>>>>> Stashed changes
   "source": [
    "import time\n",
    "import random\n",
    "def tabu_search_fast_first(perm, duration):\n",
    "    MAX_TABU_SIZE = 10\n",
    "    WALK_LEN = 1\n",
    "    best = perm.copy()\n",
    "    temp = perm.copy()\n",
    "    bestCost = evaluate(best)\n",
    "    tabuList = np.array([best.copy()])\n",
    "    begin = time.time()\n",
    "    end = time.time()\n",
    "    while end-begin<duration:\n",
    "        neighbour, cost = local_search_first_tabu_fast(temp, size, tabuList)\n",
    "        temp = neighbour.copy()\n",
    "        if cost<bestCost:\n",
    "            best = neighbour.copy()\n",
    "            bestCost = cost\n",
    "            #print(\"improve\")\n",
    "        else:\n",
    "            tabuList = np.append(tabuList, [neighbour.copy()], axis=0)\n",
    "            if len(tabuList)>MAX_TABU_SIZE:\n",
    "                if (tabuList[0]==neighbour).all(0):#will this ever hit?\n",
    "                    print(\"MASSIVE FAILURE\")\n",
    "                    break\n",
    "                tabuList = np.delete(tabuList, 0, axis=0)\n",
    "        end = time.time()\n",
    "    return best, bestCost\n",
    "MAX_VAL = 100000000000000000000\n",
    "def local_search_best_tabu_fast(curr, size, tabu):\n",
    "    \n",
    "    # find initial non tabu solution\n",
    "    cBest = curr\n",
    "    n = size\n",
    "    cVal = MAX_VAL\n",
    "    while ((cBest == tabu).all(1)).any(0):\n",
    "        swap1 = random.randrange(0, n)\n",
    "        swap2 = random.randrange(0, n)\n",
    "        while swap2 == swap1:\n",
    "            swap2 = random.randrange(0, n)\n",
    "        neighbour = curr.copy()\n",
    "        neighbour[swap1] = curr[swap2]\n",
    "        neighbour[swap2] = curr[swap1]\n",
    "        cBest = neighbour.copy()\n",
    "        cVal = evaluate(cBest)\n",
    "        \n",
    "#     perform local search\n",
    "    for i in range(size):\n",
    "        for j in range(size):\n",
    "            if i<j:\n",
    "                newPerm, newCost = evaluate_swap(current_cost, curr ,i, j, size)\n",
    "                if newCost < cVal and not ((newPerm == tabu).all(1)).any(0):\n",
    "                    cBest = newPerm.copy()\n",
    "                    cVal = newCost\n",
    "    return cBest, cVal"
   ]
  },
  {
   "cell_type": "code",
<<<<<<< Updated upstream
   "execution_count": 5,
=======
   "execution_count": 184,
   "id": "cfcfed20-0c63-49e2-bc98-1dfc94ffba84",
   "metadata": {},
   "outputs": [],
   "source": [
    "import time\n",
    "import random\n",
    "def tabu_search_fast(perm, duration):\n",
    "    MAX_TABU_SIZE = 10\n",
    "    WALK_LEN = 1\n",
    "    best = perm.copy()\n",
    "    temp = perm.copy()\n",
    "    bestCost = evaluate(best)\n",
    "    tabuList = np.array([best.copy()])\n",
    "    begin = time.time()\n",
    "    end = time.time()\n",
    "    while end-begin<duration:\n",
    "        neighbour, cost = local_search_best_tabu_fast(temp, size, tabuList)\n",
    "        temp = neighbour.copy()\n",
    "        if cost<bestCost:\n",
    "            best = neighbour.copy()\n",
    "            bestCost = cost\n",
    "            #print(\"improve\")\n",
    "        else:\n",
    "            tabuList = np.append(tabuList, [neighbour.copy()], axis=0)\n",
    "            if len(tabuList)>MAX_TABU_SIZE:\n",
    "                if (tabuList[0]==neighbour).all(0):#will this ever hit?\n",
    "                    print(\"MASSIVE FAILURE\")\n",
    "                    break\n",
    "                tabuList = np.delete(tabuList, 0, axis=0)\n",
    "        end = time.time()\n",
    "    return best, bestCost\n",
    "MAX_VAL = 100000000000000000000\n",
    "def local_search_best_tabu_fast(curr, size, tabu):\n",
    "    \n",
    "    # find initial non tabu solution\n",
    "    cBest = curr\n",
    "    n = size\n",
    "    cVal = MAX_VAL\n",
    "    while ((cBest == tabu).all(1)).any(0):\n",
    "        swap1 = random.randrange(0, n)\n",
    "        swap2 = random.randrange(0, n)\n",
    "        while swap2 == swap1:\n",
    "            swap2 = random.randrange(0, n)\n",
    "        neighbour = curr.copy()\n",
    "        neighbour[swap1] = curr[swap2]\n",
    "        neighbour[swap2] = curr[swap1]\n",
    "        cBest = neighbour.copy()\n",
    "        cVal = evaluate(cBest)\n",
    "        \n",
    "#     perform local search\n",
    "    for i in range(size):\n",
    "        for j in range(size):\n",
    "            if i<j:\n",
    "                newPerm, newCost = evaluate_swap(current_cost, curr ,i, j, size)\n",
    "                if newCost < cVal and not ((newPerm == tabu).all(1)).any(0):\n",
    "                    cBest = newPerm.copy()\n",
    "                    cVal = newCost\n",
    "    return cBest, cVal\n",
    "\n",
    "# current_perm = [i for i in range(size)]\n",
    "# current_cost =  evaluate(current_perm,size)\n",
    "# print(current_cost)\n",
    "# s1 = 1\n",
    "# s2 = 5\n",
    "# temp = current_perm.copy()\n",
    "# result = tabu_search_fast(temp, 10)\n",
    "# print(result)\n",
    "# print(evaluate(result,size))\n"
   ]
  },
  {
   "cell_type": "code",
   "execution_count": 59,
   "id": "e3b27fd9",
>>>>>>> Stashed changes
   "metadata": {},
   "outputs": [
    {
     "ename": "NameError",
     "evalue": "name 'current' is not defined",
     "output_type": "error",
     "traceback": [
<<<<<<< Updated upstream
      "\u001b[1;31m---------------------------------------------------------------------------\u001b[0m",
      "\u001b[1;31mNameError\u001b[0m                                 Traceback (most recent call last)",
      "\u001b[1;32m<ipython-input-5-0c102e528a7a>\u001b[0m in \u001b[0;36m<module>\u001b[1;34m\u001b[0m\n\u001b[1;32m----> 1\u001b[1;33m \u001b[0mcurr\u001b[0m \u001b[1;33m=\u001b[0m \u001b[0mnp\u001b[0m\u001b[1;33m.\u001b[0m\u001b[0marray\u001b[0m\u001b[1;33m(\u001b[0m\u001b[0mcurrent\u001b[0m\u001b[1;33m)\u001b[0m\u001b[1;33m\u001b[0m\u001b[1;33m\u001b[0m\u001b[0m\n\u001b[0m\u001b[0;32m      2\u001b[0m \u001b[0mtabu\u001b[0m \u001b[1;33m=\u001b[0m \u001b[1;33m[\u001b[0m\u001b[0mp2\u001b[0m\u001b[1;33m]\u001b[0m\u001b[1;33m\u001b[0m\u001b[1;33m\u001b[0m\u001b[0m\n\u001b[0;32m      3\u001b[0m \u001b[0mcBest\u001b[0m \u001b[1;33m=\u001b[0m \u001b[0mnp\u001b[0m\u001b[1;33m.\u001b[0m\u001b[0marray\u001b[0m\u001b[1;33m(\u001b[0m\u001b[0mnp\u001b[0m\u001b[1;33m.\u001b[0m\u001b[0mappend\u001b[0m\u001b[1;33m(\u001b[0m\u001b[1;33m[\u001b[0m\u001b[0mcurr\u001b[0m\u001b[1;33m[\u001b[0m\u001b[1;36m1\u001b[0m\u001b[1;33m]\u001b[0m\u001b[1;33m,\u001b[0m\u001b[0mcurr\u001b[0m\u001b[1;33m[\u001b[0m\u001b[1;36m0\u001b[0m\u001b[1;33m]\u001b[0m\u001b[1;33m]\u001b[0m\u001b[1;33m,\u001b[0m\u001b[0mcurr\u001b[0m\u001b[1;33m[\u001b[0m\u001b[1;36m2\u001b[0m\u001b[1;33m:\u001b[0m\u001b[1;33m]\u001b[0m\u001b[1;33m)\u001b[0m\u001b[1;33m)\u001b[0m\u001b[1;33m\u001b[0m\u001b[1;33m\u001b[0m\u001b[0m\n\u001b[0;32m      4\u001b[0m \u001b[0mprint\u001b[0m\u001b[1;33m(\u001b[0m\u001b[0mcBest\u001b[0m\u001b[1;33m,\u001b[0m\u001b[0mtabu\u001b[0m\u001b[1;33m)\u001b[0m\u001b[1;33m\u001b[0m\u001b[1;33m\u001b[0m\u001b[0m\n\u001b[0;32m      5\u001b[0m \u001b[0mn\u001b[0m \u001b[1;33m=\u001b[0m \u001b[0msize\u001b[0m\u001b[1;33m\u001b[0m\u001b[1;33m\u001b[0m\u001b[0m\n",
      "\u001b[1;31mNameError\u001b[0m: name 'current' is not defined"
=======
      "\u001b[0;31m---------------------------------------------------------------------------\u001b[0m",
      "\u001b[0;31mNameError\u001b[0m                                 Traceback (most recent call last)",
      "\u001b[0;32m/var/folders/c1/jbnxwjg95sn3_mqj44b_83n00000gp/T/ipykernel_2932/4196510091.py\u001b[0m in \u001b[0;36m<module>\u001b[0;34m\u001b[0m\n\u001b[0;32m----> 1\u001b[0;31m \u001b[0mcurr\u001b[0m \u001b[0;34m=\u001b[0m \u001b[0mnp\u001b[0m\u001b[0;34m.\u001b[0m\u001b[0marray\u001b[0m\u001b[0;34m(\u001b[0m\u001b[0mcurrent\u001b[0m\u001b[0;34m)\u001b[0m\u001b[0;34m\u001b[0m\u001b[0;34m\u001b[0m\u001b[0m\n\u001b[0m\u001b[1;32m      2\u001b[0m \u001b[0mtabu\u001b[0m \u001b[0;34m=\u001b[0m \u001b[0;34m[\u001b[0m\u001b[0mp2\u001b[0m\u001b[0;34m]\u001b[0m\u001b[0;34m\u001b[0m\u001b[0;34m\u001b[0m\u001b[0m\n\u001b[1;32m      3\u001b[0m \u001b[0mcBest\u001b[0m \u001b[0;34m=\u001b[0m \u001b[0mnp\u001b[0m\u001b[0;34m.\u001b[0m\u001b[0marray\u001b[0m\u001b[0;34m(\u001b[0m\u001b[0mnp\u001b[0m\u001b[0;34m.\u001b[0m\u001b[0mappend\u001b[0m\u001b[0;34m(\u001b[0m\u001b[0;34m[\u001b[0m\u001b[0mcurr\u001b[0m\u001b[0;34m[\u001b[0m\u001b[0;36m1\u001b[0m\u001b[0;34m]\u001b[0m\u001b[0;34m,\u001b[0m\u001b[0mcurr\u001b[0m\u001b[0;34m[\u001b[0m\u001b[0;36m0\u001b[0m\u001b[0;34m]\u001b[0m\u001b[0;34m]\u001b[0m\u001b[0;34m,\u001b[0m\u001b[0mcurr\u001b[0m\u001b[0;34m[\u001b[0m\u001b[0;36m2\u001b[0m\u001b[0;34m:\u001b[0m\u001b[0;34m]\u001b[0m\u001b[0;34m)\u001b[0m\u001b[0;34m)\u001b[0m\u001b[0;34m\u001b[0m\u001b[0;34m\u001b[0m\u001b[0m\n\u001b[1;32m      4\u001b[0m \u001b[0mprint\u001b[0m\u001b[0;34m(\u001b[0m\u001b[0mcBest\u001b[0m\u001b[0;34m,\u001b[0m\u001b[0mtabu\u001b[0m\u001b[0;34m)\u001b[0m\u001b[0;34m\u001b[0m\u001b[0;34m\u001b[0m\u001b[0m\n\u001b[1;32m      5\u001b[0m \u001b[0mn\u001b[0m \u001b[0;34m=\u001b[0m \u001b[0msize\u001b[0m\u001b[0;34m\u001b[0m\u001b[0;34m\u001b[0m\u001b[0m\n",
      "\u001b[0;31mNameError\u001b[0m: name 'current' is not defined"
>>>>>>> Stashed changes
     ]
    }
   ],
   "source": [
    "curr = np.array(current)\n",
    "tabu = [p2]\n",
    "cBest = np.array(np.append([curr[1],curr[0]],curr[2:]))\n",
    "print(cBest,tabu)\n",
    "n = size\n",
    "cVal = evaluate(cBest,size)\n",
    "while np.any(np.all(cBest == tabu, axis=1)):\n",
    "    swap1 = random.randrange(0, n)\n",
    "    swap2 = random.randrange(0, n)\n",
    "    while swap2 == swap1:\n",
    "        swap2 = random.randrange(0, n)\n",
    "    neighbour = curr.copy()\n",
    "    neighbour[swap1] = perm[swap2]\n",
    "    neighbour[swap2] = perm[swap1]\n",
    "    cBest = neighbour.copy()\n",
    "    cVal = evaluate(cBest,size)"
   ]
  },
  {
   "cell_type": "code",
<<<<<<< Updated upstream
   "execution_count": 6,
=======
   "execution_count": 5,
   "id": "bc49b99c",
>>>>>>> Stashed changes
   "metadata": {},
   "outputs": [],
   "source": [
    "import numpy as np\n",
    "def read_instance(fname):\n",
    "    data = np.array([])\n",
    "    for i in open(fname,'r').readlines():\n",
    "        data = np.append(data, i.split())\n",
    "    size = int(data[0])\n",
    "    flows = np.zeros(shape=(size, size))\n",
    "    for i in range(size):\n",
    "        row = np.array([])\n",
    "        for j in range(size):\n",
    "            flows[i][j] = data[1+i*size+j]\n",
    "    distances = np.zeros(shape=(size, size))\n",
    "    base = 1+size**2\n",
    "    for i in range(size):\n",
    "        row = np.array([])\n",
    "        step = i*size\n",
    "        for j in range(size):\n",
    "            distances[i][j] = data[base+step+j]\n",
    "    return size, flows, distances\n"
   ]
  },
  {
   "cell_type": "code",
<<<<<<< Updated upstream
   "execution_count": 7,
=======
   "execution_count": 20,
   "id": "ad81c676",
>>>>>>> Stashed changes
   "metadata": {},
   "outputs": [
    {
     "name": "stdout",
     "output_type": "stream",
     "text": [
      "-47.35604691505432\n"
     ]
    }
   ],
   "source": [
    "# 5482686 [21, 1, 2, 11, 12, 23, 6, 8, 7, 20, 19, 3, 4, 13, 10, 14, 0, 17, 18, 15, 9, 16, 22, 5, 24, 25]\n",
    "# 5435743 [22, 10, 25, 12, 1, 24, 14, 0, 3, 7, 19, 6, 11, 17, 13, 20, 8, 4, 18, 15, 5, 9, 21, 2, 23, 16]\n",
    "# 5435743 [22, 10, 25, 12, 1, 24, 14, 0, 3, 7, 19, 6, 11, 17, 13, 20, 8, 4, 18, 15, 5, 9, 21, 2, 23, 16]\n",
    "begin = time.time()\n",
    "print(end-begin)"
   ]
  },
  {
   "cell_type": "code",
<<<<<<< Updated upstream
   "execution_count": 16,
=======
   "execution_count": null,
   "id": "ae222f2c",
>>>>>>> Stashed changes
   "metadata": {},
   "outputs": [
    {
     "name": "stdout",
     "output_type": "stream",
     "text": [
      "\n",
      " gap for bur26a.dat: \n",
      "0.739403722724985 \n",
      "\n",
      "\n",
      " gap for bur26b.dat: \n",
      "0.8339506088764104 \n",
      "\n",
      "\n",
      " gap for bur26c.dat: \n",
      "0.8309324380228134 \n",
      "\n",
      "\n",
      " gap for bur26d.dat: \n",
      "1.3638296619539636 \n",
      "\n",
      "\n",
      " gap for bur26e.dat: \n",
      "0.651137699584492 \n",
      "\n",
      "\n",
      " gap for bur26f.dat: \n",
      "1.5822132159224012 \n",
      "\n",
      "\n",
      " gap for bur26g.dat: \n",
      "0.8414110188103896 \n",
      "\n",
      "\n",
      " gap for bur26h.dat: \n",
      "0.6997378941202781 \n",
      "\n"
     ]
    }
   ],
   "source": [
    "# analysis\n",
    "import os\n",
    "import random\n",
    "import numpy as np\n",
    "directory = os.fsencode(\"qapdata\")\n",
    "counter = 0\n",
    "for file in os.listdir(directory):\n",
    "#     counter += 1\n",
    "#     if counter>10:\n",
    "#         break\n",
    "    filename = os.fsdecode(file)\n",
    "    #if filename.endswith(\".dat\") and (filename.startswith(\"tai\") or filename.startswith(\"bur\")):\n",
    "    if filename.endswith(\".dat\") and filename.startswith(\"bur\"):\n",
    "    #if filename.endswith(\".dat\"): \n",
    "        fname = \"qapdata/\"+filename\n",
    "        # read flash.dat to a list of lists\n",
    "        \n",
    "        size , flows, distances = read_instance(fname)\n",
    "        current = np.random.permutation(size).astype(int)\n",
    "        #print(current, size, flows, distances)\n",
    "        result = tabu_search_fast(current, 5)\n",
    "#         print(\"\\n initial solution for \"+filename+\": \")\n",
    "#         print(val,current)\n",
<<<<<<< Updated upstream
    "        result = tabu_search( current,size, 10)\n",
    "#         for count in range(10):\n",
    "#             val, current = local_search_first(val, current, size)\n",
    "#         result = current\n",
=======
    "        #result = tabu_search( current,size, 10)\n",
>>>>>>> Stashed changes
    "        val = evaluate(result, size)\n",
    "#         print(\"\\n tabu solution for \"+filename+\": \")\n",
    "#         print(val,current)\n",
    "        fname = \"qapsoln/\"+filename[:-3]+\"sln\"\n",
    "        try:\n",
    "            data = [list(map(int, i.split())) for i in open(fname,'r').readlines()]\n",
    "            print(\"\\n gap for \"+filename+\": \")\n",
    "            try:\n",
<<<<<<< Updated upstream
    "                print(100*(val/data[0][1]-1),\"\\n\")\n",
=======
    "                print(100*val/data[0][1]-100,\"%\\n\")\n",
>>>>>>> Stashed changes
    "            except:\n",
    "                print(\"\\n optimum is 0 \\n\")\n",
    "        except:\n",
    "            print(\"no soln found\\n\")\n",
    "        \n",
    "        \n",
    "\n"
   ]
  },
  {
   "cell_type": "code",
   "execution_count": 66,
   "id": "33e523e2",
   "metadata": {},
   "outputs": [
    {
     "name": "stdout",
     "output_type": "stream",
     "text": [
      "[[ True  True  True False]\n",
      " [ True  True  True  True]\n",
      " [ True False  True False]\n",
      " [ True  True False  True]]\n",
      "True\n",
      "False\n"
     ]
    }
   ],
   "source": [
    "test = np.array([1,2,3,4])\n",
    "test_tabu = np.array([[1,2,3,2], [1,2,3,4], [1,1,3,3], [1,2,1,4]])\n",
    "print(test==test_tabu)\n",
    "print(np.any(test==test_tabu))\n",
    "print(np.all(test==test_tabu))"
   ]
  },
  {
   "cell_type": "code",
   "execution_count": 120,
   "id": "8e9409a3-bcac-43a4-9bd6-61c3b466e10d",
   "metadata": {},
   "outputs": [],
   "source": [
    "test_list = np.array([[ 1,  1,  2,  3,  4,  5,  6,  7,  8,  9, 10, 11, 12, 13, 14, 15, 16, 17, 18, 19, 20, 21, 22, 23,24, 25],[ 1,  0,  2,  3,  4,  5,  6,  7,  8,  9, 10, 11, 12, 13, 14, 15, 16, 17, 18, 19, 20, 21, 22, 23,24, 25],[ 0,  1,  2,  3,  4,  5,  6,  7,  8,  9, 10, 11, 12, 13, 14, 15, 16, 17, 18, 19, 20, 21, 22, 23,24, 25],[ 1,  0,  2,  3,  4,  5,  6,  7,  8,  9, 10, 11, 12, 13, 14, 15, 16, 17, 18, 19, 20, 21, 22, 23,24, 25]])\n",
    "test = np.array([ 4,  1,  2,  3,  4,  5,  6,  7,  8,  9, 10, 11, 12, 13, 14, 15, 16, 17, 18, 19, 20, 21, 22, 23, 24, 25])\n",
    "test2 = np.array([ 1,  0,  2,  3,  4,  5,  6,  7,  8,  9, 10, 11, 12, 13, 14, 15, 16, 17, 18, 19, 20, 21, 22, 23, 24, 25])\n",
    "print((test == test_list).all(1))\n",
    "print((test2 == test_list).all(1))"
   ]
  },
  {
   "cell_type": "code",
   "execution_count": 137,
   "id": "dd3ea6ec-4b73-416e-9d6c-484c76f053f5",
   "metadata": {},
   "outputs": [
    {
     "name": "stdout",
     "output_type": "stream",
     "text": [
      "result_bur26a.txt\n"
     ]
    }
   ],
   "source": [
    "fname = \"qapdata/bur26a.dat\"\n",
    "print(\"result_\"+fname[8:-4]+\".txt\")"
   ]
  },
  {
   "cell_type": "code",
   "execution_count": 173,
   "id": "e8f86468-7e42-4f9b-9980-f926b47ac768",
   "metadata": {},
   "outputs": [],
   "source": [
    "import os\n",
    "import random\n",
    "import numpy as np\n",
    "directory = os.fsencode(\"qapdata\")\n",
    "counter = 0\n",
    "for file in os.listdir(directory):\n",
    "#     counter += 1\n",
    "#     if counter>10:\n",
    "#         break\n",
    "    filename = os.fsdecode(file)\n",
    "    fname = \"qapdata/\"+filename\n",
    "    if filename.endswith(\".dat\") and filename.startswith(\"tai\") and (\"result_\"+fname[8:-4]+\".txt\" not in os.listdir(\"/Users/Oscarrochanakij/Uni/y5/Heuristics-group-project/\")): \n",
    "    # if filename.endswith(\".dat\") and filename.startswith(\"bur\"): \n",
    "        size , flows, distances = read_instance(fname)\n",
    "        current = np.random.permutation(size).astype(int)\n",
    "        solname = \"qapsoln/\"+filename[:-3]+\"sln\"\n",
    "        try:\n",
    "            data = [list(map(int, i.split())) for i in open(solname,'r').readlines()]\n",
    "            opt = data[0][1]\n",
    "            if int(opt)==0:\n",
    "                opt = 1\n",
    "        except:\n",
    "            opt = 1\n",
    "\n",
    "        results = np.zeros(20)\n",
    "        initial_result = 0\n",
    "        num_iter = 3\n",
    "        for j in range(num_iter):\n",
    "            current = np.random.permutation(size).astype(int)\n",
    "            initial_result += evaluate(current)/num_iter\n",
    "            for i in range(10):\n",
    "                result, val = tabu_search_fast(current, 1)\n",
    "                current = result.copy()\n",
    "                results[i] += val/num_iter\n",
    "            for i in range(10):\n",
    "                result, val = tabu_search_fast(current, 5)\n",
    "                current = result.copy()\n",
    "                results[i+10] += val/num_iter\n",
    "\n",
    "        with open(\"result_\"+fname[8:-4]+\".txt\", \"a\") as f:\n",
    "            print(\"Initial,,,\",file = f)\n",
    "            print(str(initial_result)+\",,,\",file = f)\n",
    "            print(\"Second,Value,Gap,\",file = f)\n",
    "            print(\"0,\"+str(initial_result)+\",\"+str(100*(initial_result/opt-1))+\",\",file = f)\n",
    "            for i in range(10):\n",
    "                print(str(int(i+1))+\",\"+str(results[i])+\",\"+str(100*(results[i]/opt-1))+\",\",file = f)\n",
    "            for i in range(10):\n",
    "                print(str(int(i+1)*5+10)+\",\"+str(results[i+10])+\",\"+str(100*(results[i+10]/opt-1))+\",\",file = f)"
   ]
  },
  {
   "cell_type": "code",
   "execution_count": 154,
   "id": "ba1be716-6b8f-4070-bb4d-77a86d6d3a79",
   "metadata": {},
   "outputs": [],
   "source": [
    "with open(\"result_\"+fname[8:-4]+\".txt\", \"a\") as f:\n",
    "    print(\"Initial,,,\",file = f)\n",
    "    print(str(initial_result)+\",,,\",file = f)\n",
    "    print(\"Second,Value,Gap,\",file = f)\n",
    "    print(\"0,\"+str(initial_result)+\",\"+str(100*(initial_result/opt-1))+\",\",file = f)\n",
    "    for i in range(10):\n",
    "        print(str(int(i+1))+\",\"+str(results[i])+\",\"+str(100*(results[i]/opt-1))+\",\",file = f)\n",
    "    for i in range(10):\n",
    "        print(str(int(i+1)*5+10)+\",\"+str(results[i+10])+\",\"+str(100*(results[i+10]/opt-1))+\",\",file = f)"
   ]
  },
  {
   "cell_type": "code",
   "execution_count": null,
   "id": "1a4cc4cf-662d-410d-9381-b71d347f6a31",
   "metadata": {},
   "outputs": [],
   "source": []
  },
  {
   "cell_type": "code",
   "execution_count": 186,
   "id": "d057367d-4315-472a-b57d-60c384aad6fb",
   "metadata": {},
   "outputs": [],
   "source": [
    "fname = \"qapdata/tai17a.dat\"\n",
    "size , flows, distances = read_instance(fname)\n",
    "current = np.random.permutation(size).astype(int)\n",
    "solname = \"qapsoln/\"+filename[:-3]+\"sln\"\n",
    "try:\n",
    "    data = [list(map(int, i.split())) for i in open(solname,'r').readlines()]\n",
    "    opt = data[0][1]\n",
    "    if int(opt)==0:\n",
    "        opt = 1\n",
    "except:\n",
    "    opt = 1\n",
    "\n",
    "current = np.random.permutation(size).astype(int)\n",
    "initial_result = evaluate(current)\n",
    "result, val = tabu_search_fast(current, 60)\n",
    "with open(\"fast_result_\"+fname[8:-4]+\".txt\", \"a\") as f:\n",
    "    print(\"Initial,\"+str(initial_result),file = f)\n",
    "    print(\"60 sec\"+str(val)+\",\"+str(100*(val/opt-1)),file = f)"
   ]
  },
  {
   "cell_type": "code",
   "execution_count": null,
   "id": "2f68e26e-9b6d-4f76-b689-82912b36d0d4",
   "metadata": {},
   "outputs": [],
   "source": []
  },
  {
   "cell_type": "code",
   "execution_count": null,
   "metadata": {},
   "outputs": [],
   "source": []
  }
 ],
 "metadata": {
  "kernelspec": {
   "display_name": "Python 3 (ipykernel)",
   "language": "python",
   "name": "python3"
  },
  "language_info": {
   "codemirror_mode": {
    "name": "ipython",
    "version": 3
   },
   "file_extension": ".py",
   "mimetype": "text/x-python",
   "name": "python",
   "nbconvert_exporter": "python",
   "pygments_lexer": "ipython3",
   "version": "3.9.7"
  }
 },
 "nbformat": 4,
 "nbformat_minor": 5
}
