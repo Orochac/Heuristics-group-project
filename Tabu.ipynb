{
 "cells": [
  {
   "cell_type": "code",
   "execution_count": 1,
   "metadata": {},
   "outputs": [],
   "source": [
    "\n",
    "#cost function\n",
    "def evaluate(assign, size):\n",
    "    total = 0\n",
    "    for i in range(size):\n",
    "        for j in range(size):\n",
    "            #if i!=j:\n",
    "            total += flows[i][j]*distances[assign[i]][assign[j]]\n",
    "    return total\n",
    "\n",
    "#take first better solution and move in that direction\n",
    "def local_search_first(val, curr, size):\n",
    "    for i in range(size):\n",
    "        for j in range(size):\n",
    "            if i<j:\n",
    "                temp = curr.copy()\n",
    "                temp[i] = curr[j]\n",
    "                temp[j] = curr[i]\n",
    "                new_val = evaluate(temp,size)\n",
    "                if new_val < val:\n",
    "                    return new_val, temp\n",
    "    return val, curr\n",
    "\n",
    "# import csv\n",
    "# fname = \"qapdata/bur26a.dat\"\n",
    "# # read flash.dat to a list of lists\n",
    "# data = [list(map(int, i.split())) for i in open(fname,'r').readlines()]\n",
    "# for row in data:\n",
    "#     for item in row:\n",
    "#         item = int(item)\n",
    "# size = data[0][0]\n",
    "# flows = data[2:2+size]\n",
    "# distances = data[3+size:len(data)-1]\n",
    "# # print(len(flows),len(distances))\n",
    "# # print(flows)\n",
    "# # print(distances)\n",
    "# current = [i for i in range(size)]\n",
    "# val = evaluate(current, size)\n",
    "# print(val,current)\n",
    "# for i in range(100):\n",
    "#     val, current = local_search_first(val, current, size)\n",
    "# print(val,current)\n",
    "# print(evaluate(current,size))"
   ]
  },
  {
   "cell_type": "code",
   "execution_count": 2,
   "metadata": {},
   "outputs": [],
   "source": [
    "import random\n",
    "\n",
    "# get random neighbour\n",
    "def get_neighbour(perm, value, n, depth):\n",
    "    for i in range(depth):\n",
    "        swap1 = random.randrange(0, n)\n",
    "        swap2 = random.randrange(0, n)\n",
    "        while swap2 == swap1:\n",
    "            swap2 = random.randrange(0, n)\n",
    "        neighbour = perm.copy()\n",
    "        neighbour[swap1] = perm[swap2]\n",
    "        neighbour[swap2] = perm[swap1]\n",
    "        perm = neighbour.copy()\n",
    "    #             Compute new cost\n",
    "    cost = evaluate(neighbour, n)\n",
    "    #TO DO efficient cost\n",
    "    #cost = value-\n",
    "    return neighbour, cost\n",
    "    "
   ]
  },
  {
   "cell_type": "code",
   "execution_count": null,
   "metadata": {},
   "outputs": [],
   "source": []
  },
  {
   "cell_type": "code",
   "execution_count": 3,
   "metadata": {},
   "outputs": [
    {
     "ename": "NameError",
     "evalue": "name 'size' is not defined",
     "output_type": "error",
     "traceback": [
      "\u001b[1;31m---------------------------------------------------------------------------\u001b[0m",
      "\u001b[1;31mNameError\u001b[0m                                 Traceback (most recent call last)",
      "\u001b[1;32m<ipython-input-3-cedc2ee700c9>\u001b[0m in \u001b[0;36m<module>\u001b[1;34m\u001b[0m\n\u001b[0;32m     23\u001b[0m             \u001b[0mbestCost\u001b[0m \u001b[1;33m=\u001b[0m \u001b[0mcost\u001b[0m\u001b[1;33m\u001b[0m\u001b[1;33m\u001b[0m\u001b[0m\n\u001b[0;32m     24\u001b[0m     \u001b[1;32mreturn\u001b[0m \u001b[0mbest\u001b[0m\u001b[1;33m\u001b[0m\u001b[1;33m\u001b[0m\u001b[0m\n\u001b[1;32m---> 25\u001b[1;33m \u001b[0mcurrent\u001b[0m \u001b[1;33m=\u001b[0m \u001b[0msorted\u001b[0m\u001b[1;33m(\u001b[0m\u001b[1;33m[\u001b[0m\u001b[0mi\u001b[0m \u001b[1;32mfor\u001b[0m \u001b[0mi\u001b[0m \u001b[1;32min\u001b[0m \u001b[0mrange\u001b[0m\u001b[1;33m(\u001b[0m\u001b[0msize\u001b[0m\u001b[1;33m)\u001b[0m\u001b[1;33m]\u001b[0m\u001b[1;33m,\u001b[0m \u001b[0mreverse\u001b[0m \u001b[1;33m=\u001b[0m \u001b[1;32mTrue\u001b[0m\u001b[1;33m)\u001b[0m\u001b[1;33m\u001b[0m\u001b[1;33m\u001b[0m\u001b[0m\n\u001b[0m\u001b[0;32m     26\u001b[0m \u001b[0mresult\u001b[0m\u001b[1;33m=\u001b[0m\u001b[0mtabu_search\u001b[0m\u001b[1;33m(\u001b[0m \u001b[0mcurrent\u001b[0m\u001b[1;33m,\u001b[0m\u001b[0mlen\u001b[0m\u001b[1;33m(\u001b[0m\u001b[0mcurrent\u001b[0m\u001b[1;33m)\u001b[0m\u001b[1;33m,\u001b[0m \u001b[1;36m10\u001b[0m\u001b[1;33m)\u001b[0m\u001b[1;33m\u001b[0m\u001b[1;33m\u001b[0m\u001b[0m\n\u001b[0;32m     27\u001b[0m \u001b[0mprint\u001b[0m\u001b[1;33m(\u001b[0m\u001b[0mevaluate\u001b[0m\u001b[1;33m(\u001b[0m\u001b[0mresult\u001b[0m\u001b[1;33m,\u001b[0m \u001b[0msize\u001b[0m\u001b[1;33m)\u001b[0m\u001b[1;33m,\u001b[0m \u001b[0mresult\u001b[0m\u001b[1;33m)\u001b[0m\u001b[1;33m\u001b[0m\u001b[1;33m\u001b[0m\u001b[0m\n",
      "\u001b[1;31mNameError\u001b[0m: name 'size' is not defined"
     ]
    }
   ],
   "source": [
    "import numpy as np\n",
    "#basic tabu with only short term\n",
    "def tabu_search( perm,size, Tnum):\n",
    "    MAX_TABU_SIZE = 10\n",
    "    WALK_LEN = 1\n",
    "    best = perm.copy()\n",
    "    bestCost = evaluate(best, size)\n",
    "    tabuList = [best]\n",
    "    for i in range(Tnum):\n",
    "        neighbour, cost = local_search_best_tabu(perm, size, tabuList)\n",
    "#         print(\"perm:\", perm, \"nwighbour:\",  neighbour)\n",
    "#         print(\"\\n\\n\")\n",
    "#         print(tabuList)\n",
    "#         print(\"\\n\\n\")\n",
    "        perm = neighbour.copy()\n",
    "        tabuList = np.append(tabuList, [neighbour], axis=0)\n",
    "        if len(tabuList)>MAX_TABU_SIZE:\n",
    "            if np.all(tabuList[0]==neighbour):#will this ever hit?\n",
    "                break\n",
    "            tabuList = np.delete(tabuList, 0, axis=0)\n",
    "        if cost<bestCost:\n",
    "            best = neighbour.copy()\n",
    "            bestCost = cost\n",
    "    return best\n",
    "current = sorted([i for i in range(size)], reverse = True)\n",
    "result=tabu_search( current,len(current), 10)\n",
    "print(evaluate(result, size), result)\n",
    "result=tabu_search( current,len(current), 100)\n",
    "print(evaluate(result, size), result)\n",
    "result=tabu_search( current,len(current), 1000)\n",
    "print(evaluate(result, size), result)"
   ]
  },
  {
   "cell_type": "code",
   "execution_count": 12,
   "metadata": {},
   "outputs": [
    {
     "data": {
      "text/plain": [
       "(array([ 1,  0,  2,  5,  4,  3,  6,  7,  8,  9, 10, 14, 12, 13, 11, 21, 16,\n",
       "        17, 18, 19, 20, 15, 22, 23, 24, 25]),\n",
       " 1452056.0)"
      ]
     },
     "execution_count": 12,
     "metadata": {},
     "output_type": "execute_result"
    }
   ],
   "source": [
    "#best in neighbourhood of swaps=1 where best is not in tabu\n",
    "def local_search_best_tabu(curr, size, tabu):\n",
    "    cBest = np.append([curr[1],curr[0]],curr[2:])\n",
    "    n = size\n",
    "    cVal = evaluate(cBest,size)\n",
    "    while np.any(np.all(cBest == tabu)):\n",
    "        swap1 = random.randrange(0, n)\n",
    "        swap2 = random.randrange(0, n)\n",
    "        while swap2 == swap1:\n",
    "            swap2 = random.randrange(0, n)\n",
    "        neighbour = curr.copy()\n",
    "        neighbour[swap1] = curr[swap2]\n",
    "        neighbour[swap2] = curr[swap1]\n",
    "        cBest = neighbour.copy()\n",
    "        cVal = evaluate(cBest,size)\n",
    "#     print(\"start\", cBest,\"start\")\n",
    "    for i in range(size):\n",
    "        for j in range(size):\n",
    "            if i<j:\n",
    "                temp = curr.copy()\n",
    "                temp[i] = curr[j]\n",
    "                temp[j] = curr[i]\n",
    "                #implement speed up\n",
    "                new_val = evaluate(temp,size)\n",
    "#                 print(temp, tabu)\n",
    "                if new_val < cVal and not np.any(np.all(temp == tabu)):\n",
    "                    cBest = temp.copy()\n",
    "                    cVal = new_val\n",
    "    return cBest, cVal\n",
    "\n",
    "p2 = np.array([0, 1, 2, 5, 4, 3, 6, 7, 8,9, 10, 11, 12, 13, 14, 21, 16, 17, 18, 19, 20, 15, 22, 23, 24, 25])\n",
    "p1 = np.array([1, 0, 2, 5, 4, 3, 6, 7, 8,9, 10, 11, 12, 13, 14, 21, 16, 17, 18, 19, 20, 15, 22, 23, 24, 25])\n",
    "local_search_best_tabu(p1, 26, [p2])"
   ]
  },
  {
   "cell_type": "code",
   "execution_count": null,
   "metadata": {},
   "outputs": [],
   "source": [
    "def evaluate_swap(assign,s1, s2, size):\n",
    "    total = 0\n",
    "    for i in range(size):\n",
    "        for j in range(size):\n",
    "            #if i!=j:\n",
    "            total += flows[i][j]*distances[assign[i]][assign[j]]\n",
    "p1 = np.array([0, 1, 2, 3, 4, 5, 6, 7, 8,9, 10, 11, 12, 13, 14, 21, 16, 17, 18, 19, 20, 15, 22, 23, 24, 25])\n",
    "#swapping 3 and 5\n",
    "p2 = np.array([0, 1, 2, 5, 4, 3, 6, 7, 8,9, 10, 11, 12, 13, 14, 21, 16, 17, 18, 19, 20, 15, 22, 23, 24, 25])\n",
    "-flows[3][5]*distances[3][5]\n",
    "-flows[5][3]*distances[5][3]\n",
    "+flows[5][3]*distances[3][5]\n",
    "+flows[3][5]*distances[5][3]\n",
    "-flows[3][4]*distances[3][4]\n",
    "+flows[3][4]*distances[5][4]"
   ]
  },
  {
   "cell_type": "code",
   "execution_count": 4,
   "metadata": {},
   "outputs": [
    {
     "ename": "NameError",
     "evalue": "name 'p2' is not defined",
     "output_type": "error",
     "traceback": [
      "\u001b[1;31m---------------------------------------------------------------------------\u001b[0m",
      "\u001b[1;31mNameError\u001b[0m                                 Traceback (most recent call last)",
      "\u001b[1;32m<ipython-input-4-1954261a0eee>\u001b[0m in \u001b[0;36m<module>\u001b[1;34m\u001b[0m\n\u001b[1;32m----> 1\u001b[1;33m \u001b[0mnp\u001b[0m\u001b[1;33m.\u001b[0m\u001b[0many\u001b[0m\u001b[1;33m(\u001b[0m\u001b[0mnp\u001b[0m\u001b[1;33m.\u001b[0m\u001b[0mall\u001b[0m\u001b[1;33m(\u001b[0m\u001b[0mp2\u001b[0m \u001b[1;33m==\u001b[0m \u001b[1;33m[\u001b[0m\u001b[0mp1\u001b[0m\u001b[1;33m]\u001b[0m\u001b[1;33m)\u001b[0m\u001b[1;33m)\u001b[0m\u001b[1;33m\u001b[0m\u001b[1;33m\u001b[0m\u001b[0m\n\u001b[0m",
      "\u001b[1;31mNameError\u001b[0m: name 'p2' is not defined"
     ]
    }
   ],
   "source": [
    "np.any(np.all(p2 == [p1]))"
   ]
  },
  {
   "cell_type": "code",
   "execution_count": 5,
   "metadata": {},
   "outputs": [
    {
     "ename": "NameError",
     "evalue": "name 'current' is not defined",
     "output_type": "error",
     "traceback": [
      "\u001b[1;31m---------------------------------------------------------------------------\u001b[0m",
      "\u001b[1;31mNameError\u001b[0m                                 Traceback (most recent call last)",
      "\u001b[1;32m<ipython-input-5-0c102e528a7a>\u001b[0m in \u001b[0;36m<module>\u001b[1;34m\u001b[0m\n\u001b[1;32m----> 1\u001b[1;33m \u001b[0mcurr\u001b[0m \u001b[1;33m=\u001b[0m \u001b[0mnp\u001b[0m\u001b[1;33m.\u001b[0m\u001b[0marray\u001b[0m\u001b[1;33m(\u001b[0m\u001b[0mcurrent\u001b[0m\u001b[1;33m)\u001b[0m\u001b[1;33m\u001b[0m\u001b[1;33m\u001b[0m\u001b[0m\n\u001b[0m\u001b[0;32m      2\u001b[0m \u001b[0mtabu\u001b[0m \u001b[1;33m=\u001b[0m \u001b[1;33m[\u001b[0m\u001b[0mp2\u001b[0m\u001b[1;33m]\u001b[0m\u001b[1;33m\u001b[0m\u001b[1;33m\u001b[0m\u001b[0m\n\u001b[0;32m      3\u001b[0m \u001b[0mcBest\u001b[0m \u001b[1;33m=\u001b[0m \u001b[0mnp\u001b[0m\u001b[1;33m.\u001b[0m\u001b[0marray\u001b[0m\u001b[1;33m(\u001b[0m\u001b[0mnp\u001b[0m\u001b[1;33m.\u001b[0m\u001b[0mappend\u001b[0m\u001b[1;33m(\u001b[0m\u001b[1;33m[\u001b[0m\u001b[0mcurr\u001b[0m\u001b[1;33m[\u001b[0m\u001b[1;36m1\u001b[0m\u001b[1;33m]\u001b[0m\u001b[1;33m,\u001b[0m\u001b[0mcurr\u001b[0m\u001b[1;33m[\u001b[0m\u001b[1;36m0\u001b[0m\u001b[1;33m]\u001b[0m\u001b[1;33m]\u001b[0m\u001b[1;33m,\u001b[0m\u001b[0mcurr\u001b[0m\u001b[1;33m[\u001b[0m\u001b[1;36m2\u001b[0m\u001b[1;33m:\u001b[0m\u001b[1;33m]\u001b[0m\u001b[1;33m)\u001b[0m\u001b[1;33m)\u001b[0m\u001b[1;33m\u001b[0m\u001b[1;33m\u001b[0m\u001b[0m\n\u001b[0;32m      4\u001b[0m \u001b[0mprint\u001b[0m\u001b[1;33m(\u001b[0m\u001b[0mcBest\u001b[0m\u001b[1;33m,\u001b[0m\u001b[0mtabu\u001b[0m\u001b[1;33m)\u001b[0m\u001b[1;33m\u001b[0m\u001b[1;33m\u001b[0m\u001b[0m\n\u001b[0;32m      5\u001b[0m \u001b[0mn\u001b[0m \u001b[1;33m=\u001b[0m \u001b[0msize\u001b[0m\u001b[1;33m\u001b[0m\u001b[1;33m\u001b[0m\u001b[0m\n",
      "\u001b[1;31mNameError\u001b[0m: name 'current' is not defined"
     ]
    }
   ],
   "source": [
    "curr = np.array(current)\n",
    "tabu = [p2]\n",
    "cBest = np.array(np.append([curr[1],curr[0]],curr[2:]))\n",
    "print(cBest,tabu)\n",
    "n = size\n",
    "cVal = evaluate(cBest,size)\n",
    "while np.any(np.all(cBest == tabu, axis=1)):\n",
    "    swap1 = random.randrange(0, n)\n",
    "    swap2 = random.randrange(0, n)\n",
    "    while swap2 == swap1:\n",
    "        swap2 = random.randrange(0, n)\n",
    "    neighbour = curr.copy()\n",
    "    neighbour[swap1] = perm[swap2]\n",
    "    neighbour[swap2] = perm[swap1]\n",
    "    cBest = neighbour.copy()\n",
    "    cVal = evaluate(cBest,size)"
   ]
  },
  {
   "cell_type": "code",
   "execution_count": 6,
   "metadata": {},
   "outputs": [],
   "source": [
    "def read_instance(fname):\n",
    "    data = np.array([])\n",
    "    for i in open(fname,'r').readlines():\n",
    "        data = np.append(data, i.split())\n",
    "    size = int(data[0])\n",
    "    flows = np.zeros(shape=(size, size))\n",
    "    for i in range(size):\n",
    "        row = np.array([])\n",
    "        for j in range(size):\n",
    "            flows[i][j] = data[1+i*size+j]\n",
    "    distances = np.zeros(shape=(size, size))\n",
    "    base = 1+size**2\n",
    "    for i in range(size):\n",
    "        row = np.array([])\n",
    "        step = i*size\n",
    "        for j in range(size):\n",
    "            distances[i][j] = data[base+step+j]\n",
    "    return size, flows, distances\n"
   ]
  },
  {
   "cell_type": "code",
   "execution_count": 7,
   "metadata": {},
   "outputs": [],
   "source": [
    "# 5482686 [21, 1, 2, 11, 12, 23, 6, 8, 7, 20, 19, 3, 4, 13, 10, 14, 0, 17, 18, 15, 9, 16, 22, 5, 24, 25]\n",
    "# 5435743 [22, 10, 25, 12, 1, 24, 14, 0, 3, 7, 19, 6, 11, 17, 13, 20, 8, 4, 18, 15, 5, 9, 21, 2, 23, 16]\n",
    "# 5435743 [22, 10, 25, 12, 1, 24, 14, 0, 3, 7, 19, 6, 11, 17, 13, 20, 8, 4, 18, 15, 5, 9, 21, 2, 23, 16]\n"
   ]
  },
  {
   "cell_type": "code",
   "execution_count": 16,
   "metadata": {},
   "outputs": [
    {
     "name": "stdout",
     "output_type": "stream",
     "text": [
      "\n",
      " gap for bur26a.dat: \n",
      "0.739403722724985 \n",
      "\n",
      "\n",
      " gap for bur26b.dat: \n",
      "0.8339506088764104 \n",
      "\n",
      "\n",
      " gap for bur26c.dat: \n",
      "0.8309324380228134 \n",
      "\n",
      "\n",
      " gap for bur26d.dat: \n",
      "1.3638296619539636 \n",
      "\n",
      "\n",
      " gap for bur26e.dat: \n",
      "0.651137699584492 \n",
      "\n",
      "\n",
      " gap for bur26f.dat: \n",
      "1.5822132159224012 \n",
      "\n",
      "\n",
      " gap for bur26g.dat: \n",
      "0.8414110188103896 \n",
      "\n",
      "\n",
      " gap for bur26h.dat: \n",
      "0.6997378941202781 \n",
      "\n"
     ]
    }
   ],
   "source": [
    "# analysis\n",
    "import os\n",
    "import random\n",
    "import numpy as np\n",
    "directory = os.fsencode(\"qapdata\")\n",
    "counter = 0\n",
    "for file in os.listdir(directory):\n",
    "#     counter += 1\n",
    "#     if counter>10:\n",
    "#         break\n",
    "    filename = os.fsdecode(file)\n",
    "    #if filename.endswith(\".dat\") and (filename.startswith(\"tai\") or filename.startswith(\"bur\")):\n",
    "    if filename.endswith(\".dat\") and filename.startswith(\"bur\"):\n",
    "    #if filename.endswith(\".dat\"): \n",
    "        fname = \"qapdata/\"+filename\n",
    "        # read flash.dat to a list of lists\n",
    "        \n",
    "        size , flows, distances = read_instance(fname)\n",
    "        current = np.random.permutation(size).astype(int)\n",
    "        #print(current, size, flows, distances)\n",
    "        val = evaluate(current, size)\n",
    "#         print(\"\\n initial solution for \"+filename+\": \")\n",
    "#         print(val,current)\n",
    "        result = tabu_search( current,size, 10)\n",
    "#         for count in range(10):\n",
    "#             val, current = local_search_first(val, current, size)\n",
    "#         result = current\n",
    "        val = evaluate(result, size)\n",
    "#         print(\"\\n tabu solution for \"+filename+\": \")\n",
    "#         print(val,current)\n",
    "        fname = \"qapsoln/\"+filename[:-3]+\"sln\"\n",
    "        try:\n",
    "            data = [list(map(int, i.split())) for i in open(fname,'r').readlines()]\n",
    "            print(\"\\n gap for \"+filename+\": \")\n",
    "            try:\n",
    "                print(100*(val/data[0][1]-1),\"\\n\")\n",
    "            except:\n",
    "                print(\"\\n optimum is 0 \\n\")\n",
    "        except:\n",
    "            print(\"no soln found\\n\")\n",
    "        \n",
    "        \n",
    "\n"
   ]
  },
  {
   "cell_type": "code",
   "execution_count": null,
   "metadata": {},
   "outputs": [],
   "source": []
  },
  {
   "cell_type": "code",
   "execution_count": null,
   "metadata": {},
   "outputs": [],
   "source": []
  }
 ],
 "metadata": {
  "kernelspec": {
   "display_name": "Python 3",
   "language": "python",
   "name": "python3"
  },
  "language_info": {
   "codemirror_mode": {
    "name": "ipython",
    "version": 3
   },
   "file_extension": ".py",
   "mimetype": "text/x-python",
   "name": "python",
   "nbconvert_exporter": "python",
   "pygments_lexer": "ipython3",
   "version": "3.8.5"
  }
 },
 "nbformat": 4,
 "nbformat_minor": 5
}
